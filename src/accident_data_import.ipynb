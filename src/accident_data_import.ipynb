{
 "cells": [
  {
   "cell_type": "markdown",
   "metadata": {},
   "source": [
    "# data prep road accident dataset       "
   ]
  },
  {
   "cell_type": "code",
   "execution_count": null,
   "metadata": {},
   "outputs": [
    {
     "ename": "",
     "evalue": "",
     "output_type": "error",
     "traceback": [
      "\u001b[1;31mFailed to connect to the remote Jupyter Server 'http://127.0.0.1:8888/'. Verify the server is running and reachable. (Failed to connect to the remote Jupyter Server 'http://127.0.0.1:8888/'. Verify the server is running and reachable. (Forbidden).)."
     ]
    }
   ],
   "source": [
    "import pandas as pd\n",
    "import numpy as np\n",
    "\n",
    "\n",
    "from my_modules import my_functions as mybib\n",
    "from my_modules import project_functions as pr\n",
    "\n",
    "\n",
    "%load_ext autoreload\n",
    "%autoreload 2"
   ]
  },
  {
   "cell_type": "markdown",
   "metadata": {},
   "source": [
    "### Import berlin road accident files and investigate table structure"
   ]
  },
  {
   "cell_type": "code",
   "execution_count": null,
   "metadata": {},
   "outputs": [
    {
     "ename": "",
     "evalue": "",
     "output_type": "error",
     "traceback": [
      "\u001b[1;31mFailed to connect to the remote Jupyter Server 'http://127.0.0.1:8888/'. Verify the server is running and reachable. (Failed to connect to the remote Jupyter Server 'http://127.0.0.1:8888/'. Verify the server is running and reachable. (Forbidden).)."
     ]
    }
   ],
   "source": [
    "accidents18 = pd.read_csv('../data/input/road_accidents/berlin_road_accidents_2018.csv', sep=';', encoding = 'latin1')\n",
    "print('2018')\n",
    "display(accidents18.head())\n",
    "\n",
    "accidents19 = pd.read_csv('../data/input/road_accidents/berlin_road_accidents_2019.csv', sep=';', encoding = 'latin1')\n",
    "print('2019')\n",
    "display(accidents19.head())\n",
    "\n",
    "accidents20 = pd.read_csv('../data/input/road_accidents/berlin_road_accidents_2020.csv', sep=';', encoding = 'latin1')\n",
    "print('2020')\n",
    "display(accidents20.head())\n",
    "\n",
    "accidents21 = pd.read_csv('../data/input/road_accidents/berlin_road_accidents_2021.csv', sep=';', encoding = 'latin1')\n",
    "print('2021')\n",
    "display(accidents21.head())"
   ]
  },
  {
   "cell_type": "markdown",
   "metadata": {},
   "source": [
    "### check columnnames "
   ]
  },
  {
   "cell_type": "code",
   "execution_count": null,
   "metadata": {},
   "outputs": [
    {
     "ename": "",
     "evalue": "",
     "output_type": "error",
     "traceback": [
      "\u001b[1;31mFailed to connect to the remote Jupyter Server 'http://127.0.0.1:8888/'. Verify the server is running and reachable. (Failed to connect to the remote Jupyter Server 'http://127.0.0.1:8888/'. Verify the server is running and reachable. (Forbidden).)."
     ]
    }
   ],
   "source": [
    "accidents18 = mybib.clean_column_names(accidents18)\n",
    "accidents19 = mybib.clean_column_names(accidents19)\n",
    "accidents20 = mybib.clean_column_names(accidents20)\n",
    "accidents21 = mybib.clean_column_names(accidents21)\n",
    "\n",
    "#TODO: add a loop for printing\n",
    "print('2018')\n",
    "display(accidents18.head())\n",
    "print(accidents18.shape)\n",
    "print('2019')\n",
    "display(accidents19.head())\n",
    "print(accidents19.shape)\n",
    "print('2020')\n",
    "display(accidents20.head())\n",
    "print(accidents20.shape)\n",
    "print('2021')\n",
    "display(accidents21.head())\n",
    "print(accidents21.shape)\n",
    "\n",
    "total = len(accidents21) + len(accidents20) + len(accidents19) + len(accidents18)\n",
    "print(total)\n"
   ]
  },
  {
   "cell_type": "markdown",
   "metadata": {},
   "source": []
  },
  {
   "cell_type": "markdown",
   "metadata": {},
   "source": [
    "### manually change wrong column names and add missing columns "
   ]
  },
  {
   "cell_type": "code",
   "execution_count": null,
   "metadata": {},
   "outputs": [
    {
     "ename": "",
     "evalue": "",
     "output_type": "error",
     "traceback": [
      "\u001b[1;31mFailed to connect to the remote Jupyter Server 'http://127.0.0.1:8888/'. Verify the server is running and reachable. (Failed to connect to the remote Jupyter Server 'http://127.0.0.1:8888/'. Verify the server is running and reachable. (Forbidden).)."
     ]
    }
   ],
   "source": [
    "# add empty lor_ab_2021 column on accidents19\n",
    "#TODO: cleaning function\n",
    "accidents18.rename(columns={'strzustand':'ustrzustand'}, inplace=True)\n",
    "accidents18.rename(columns={'istsonstig':'istsonstige'}, inplace=True)\n",
    "accidents19.insert(5, 'lor_ab_2021', '')\n",
    "accidents20.insert(4, 'strasse', '')\n",
    "accidents21.insert(3, 'lor', '')\n",
    "accidents21.insert(4, 'strasse', '')\n",
    "\n",
    "\n",
    "columns = len(accidents18.columns)\n",
    "\n",
    "for i in range(columns):\n",
    "    print(i)\n",
    "    print(accidents18.columns[i])\n",
    "    print(accidents19.columns[i])\n",
    "    print(accidents20.columns[i])\n",
    "    print(accidents21.columns[i])"
   ]
  },
  {
   "cell_type": "code",
   "execution_count": null,
   "metadata": {},
   "outputs": [
    {
     "ename": "",
     "evalue": "",
     "output_type": "error",
     "traceback": [
      "\u001b[1;31mFailed to connect to the remote Jupyter Server 'http://127.0.0.1:8888/'. Verify the server is running and reachable. (Failed to connect to the remote Jupyter Server 'http://127.0.0.1:8888/'. Verify the server is running and reachable. (Forbidden).)."
     ]
    }
   ],
   "source": []
  },
  {
   "cell_type": "code",
   "execution_count": null,
   "metadata": {},
   "outputs": [
    {
     "ename": "",
     "evalue": "",
     "output_type": "error",
     "traceback": [
      "\u001b[1;31mFailed to connect to the remote Jupyter Server 'http://127.0.0.1:8888/'. Verify the server is running and reachable. (Failed to connect to the remote Jupyter Server 'http://127.0.0.1:8888/'. Verify the server is running and reachable. (Forbidden).)."
     ]
    }
   ],
   "source": [
    "#check if columnnames are equal\n",
    "\n",
    "# *dataframes allows to enter multiple dataframes\n",
    "def column_name_check(*dataframes):\n",
    "    check = set(dataframes[0].columns)\n",
    "    \n",
    "    for df in dataframes[1:]:\n",
    "        if set(df.columns)!= check:\n",
    "            return False\n",
    "    return True \n",
    "\n",
    "print(column_name_check(accidents18, accidents19, accidents20, accidents21))"
   ]
  },
  {
   "cell_type": "markdown",
   "metadata": {},
   "source": [
    "### concat the 4 datasets together  "
   ]
  },
  {
   "cell_type": "code",
   "execution_count": null,
   "metadata": {},
   "outputs": [
    {
     "ename": "",
     "evalue": "",
     "output_type": "error",
     "traceback": [
      "\u001b[1;31mFailed to connect to the remote Jupyter Server 'http://127.0.0.1:8888/'. Verify the server is running and reachable. (Failed to connect to the remote Jupyter Server 'http://127.0.0.1:8888/'. Verify the server is running and reachable. (Forbidden).)."
     ]
    }
   ],
   "source": [
    "accident_data = pd.concat([accidents18, accidents19, accidents20, accidents21], axis=0)\n",
    "accident_data.shape\n",
    "\n",
    "accident_data = accident_data.drop(columns=['land'])\n",
    "display(accident_data.head())\n",
    "accident_data.dtypes\n"
   ]
  },
  {
   "cell_type": "code",
   "execution_count": null,
   "metadata": {},
   "outputs": [
    {
     "ename": "",
     "evalue": "",
     "output_type": "error",
     "traceback": [
      "\u001b[1;31mFailed to connect to the remote Jupyter Server 'http://127.0.0.1:8888/'. Verify the server is running and reachable. (Failed to connect to the remote Jupyter Server 'http://127.0.0.1:8888/'. Verify the server is running and reachable. (Forbidden).)."
     ]
    }
   ],
   "source": [
    "\n",
    "accident_data = accident_data.fillna('0')\n",
    "accident_data = accident_data.replace(\"\",'0')\n",
    "\n",
    "mybib.nullTable(accident_data)\n",
    "display(accident_data)\n"
   ]
  },
  {
   "cell_type": "code",
   "execution_count": null,
   "metadata": {},
   "outputs": [
    {
     "ename": "",
     "evalue": "",
     "output_type": "error",
     "traceback": [
      "\u001b[1;31mFailed to connect to the remote Jupyter Server 'http://127.0.0.1:8888/'. Verify the server is running and reachable. (Failed to connect to the remote Jupyter Server 'http://127.0.0.1:8888/'. Verify the server is running and reachable. (Forbidden).)."
     ]
    }
   ],
   "source": [
    "# changing column istsonstige to int (1 buggy cell insight)\n",
    "def change_to_int(x):\n",
    "    if isinstance(x, int):\n",
    "        return x\n",
    "    else: \n",
    "        if x == '0':\n",
    "            x = int(0)\n",
    "        elif x == '1':\n",
    "            x = int(1)\n",
    "        else:\n",
    "            x = int(0)   \n",
    "\n",
    "        return x "
   ]
  },
  {
   "cell_type": "code",
   "execution_count": null,
   "metadata": {},
   "outputs": [
    {
     "ename": "",
     "evalue": "",
     "output_type": "error",
     "traceback": [
      "\u001b[1;31mFailed to connect to the remote Jupyter Server 'http://127.0.0.1:8888/'. Verify the server is running and reachable. (Failed to connect to the remote Jupyter Server 'http://127.0.0.1:8888/'. Verify the server is running and reachable. (Forbidden).)."
     ]
    }
   ],
   "source": [
    "accident_data['lor'] = accident_data['lor'].astype(float)\n",
    "accident_data['lor'] = accident_data['lor'].astype('Int64')\n",
    "\n",
    "accident_data['lor_ab_2021'] = accident_data['lor_ab_2021'].astype(float)\n",
    "accident_data['lor_ab_2021'] = accident_data['lor_ab_2021'].astype('Int64')\n",
    "\n",
    "accident_data['lor_ab_2021'] = accident_data['lor_ab_2021'].astype(float)\n",
    "accident_data['lor_ab_2021'] = accident_data['lor_ab_2021'].astype('Int64')\n",
    "\n",
    "\n",
    "accident_data['istsonstige'] = accident_data['istsonstige'].apply(lambda x: change_to_int(x))\n",
    "accident_data['ustrzustand'] = accident_data['ustrzustand'].apply(lambda x: change_to_int(x))\n",
    "\n",
    "\n",
    "accident_data['linrefx'] = accident_data['linrefx'].str.replace(\",\",'.').astype(float)\n",
    "accident_data['linrefy'] = accident_data['linrefy'].str.replace(\",\",'.').astype(float)\n",
    "accident_data['xgcswgs84'] = accident_data['xgcswgs84'].str.replace(\",\",'.').astype(float)\n",
    "accident_data['ygcswgs84'] = accident_data['ygcswgs84'].str.replace(\",\",'.').astype(float)"
   ]
  },
  {
   "cell_type": "code",
   "execution_count": null,
   "metadata": {},
   "outputs": [
    {
     "ename": "",
     "evalue": "",
     "output_type": "error",
     "traceback": [
      "\u001b[1;31mFailed to connect to the remote Jupyter Server 'http://127.0.0.1:8888/'. Verify the server is running and reachable. (Failed to connect to the remote Jupyter Server 'http://127.0.0.1:8888/'. Verify the server is running and reachable. (Forbidden).)."
     ]
    }
   ],
   "source": [
    "accident_data.to_csv('../data/output/raw_accident_dataset_2018-2021.csv', index = False)\n",
    "\n",
    "display(accident_data.head())\n",
    "print(accident_data.dtypes)\n",
    "accident_data.columns\n",
    "\n",
    "\n"
   ]
  },
  {
   "cell_type": "code",
   "execution_count": null,
   "metadata": {},
   "outputs": [
    {
     "ename": "",
     "evalue": "",
     "output_type": "error",
     "traceback": [
      "\u001b[1;31mFailed to connect to the remote Jupyter Server 'http://127.0.0.1:8888/'. Verify the server is running and reachable. (Failed to connect to the remote Jupyter Server 'http://127.0.0.1:8888/'. Verify the server is running and reachable. (Forbidden).)."
     ]
    }
   ],
   "source": [
    "\n",
    "accident_data = accident_data.drop(columns=['bez'])\n",
    "print(accident_data.columns)"
   ]
  },
  {
   "cell_type": "code",
   "execution_count": null,
   "metadata": {},
   "outputs": [
    {
     "ename": "",
     "evalue": "",
     "output_type": "error",
     "traceback": [
      "\u001b[1;31mFailed to connect to the remote Jupyter Server 'http://127.0.0.1:8888/'. Verify the server is running and reachable. (Failed to connect to the remote Jupyter Server 'http://127.0.0.1:8888/'. Verify the server is running and reachable. (Forbidden).)."
     ]
    }
   ],
   "source": [
    "\n",
    "\n",
    "accident_data.columns = ['object_id', 'old_lor','street_default', 'lor', 'year', 'month',\n",
    "       'hour', 'weekday', 'ac_category', 'ac_type', 'ac_type2', 'ac_light',\n",
    "       'is_bicycle', 'is_car', 'is_pedestrian', 'is_motorcycle', 'is_truck', 'is_other',\n",
    "       'street_condition', 'linrefx', 'linrefy', 'xgcswgs84', 'ygcswgs84']\n",
    "\n",
    "print(accident_data.columns)\n",
    "display(accident_data)\n",
    "\n",
    "filter = accident_data[accident_data['lor'].isnull()]\n",
    "filter\n",
    "\n",
    "key = accident_data['object_id'].astype(str) + '-' + accident_data['year'].astype(str) + '-' + accident_data['lor'].astype(str)\n",
    "\n",
    "accident_data.insert(0, 'key', key)\n",
    "\n",
    "display(accident_data)\n",
    "accident_data.dtypes\n",
    "\n"
   ]
  },
  {
   "cell_type": "code",
   "execution_count": null,
   "metadata": {},
   "outputs": [
    {
     "ename": "",
     "evalue": "",
     "output_type": "error",
     "traceback": [
      "\u001b[1;31mFailed to connect to the remote Jupyter Server 'http://127.0.0.1:8888/'. Verify the server is running and reachable. (Failed to connect to the remote Jupyter Server 'http://127.0.0.1:8888/'. Verify the server is running and reachable. (Forbidden).)."
     ]
    }
   ],
   "source": []
  },
  {
   "cell_type": "code",
   "execution_count": null,
   "metadata": {},
   "outputs": [
    {
     "ename": "",
     "evalue": "",
     "output_type": "error",
     "traceback": [
      "\u001b[1;31mFailed to connect to the remote Jupyter Server 'http://127.0.0.1:8888/'. Verify the server is running and reachable. (Failed to connect to the remote Jupyter Server 'http://127.0.0.1:8888/'. Verify the server is running and reachable. (Forbidden).)."
     ]
    }
   ],
   "source": [
    "from pyproj import Proj, Transformer\n",
    "from tqdm import tqdm\n",
    "# https://de.wikipedia.org/wiki/European_Petroleum_Survey_Group_Geodesy\n",
    "# https://pyproj4.github.io/pyproj/stable/api/transformer.html\n",
    "# https://pyproj4.github.io/pyproj/stable/api/proj.html\n",
    "# https://gis.stackexchange.com/questions/326687/getting-epsg-code-in-pyproj-with-version-2-1-3\n",
    "# https://pyproj4.github.io/pyproj/stable/gotchas.html#axis-order-changes-in-proj-6\n",
    "# https://pyproj4.github.io/pyproj/stable/gotchas.html#upgrading-to-pyproj-2-from-pyproj-1\n",
    "# https://stackoverflow.com/questions/18603270/progress-indicator-during-pandas-operation.setdefault()\n",
    "tqdm.pandas()\n",
    "\n",
    "# ETRS89/UTM Zone 32N\n",
    "utm = Proj('epsg:25832')\n",
    "\n",
    "# WGS84\n",
    "wgs = Proj('epsg:4326')\n",
    "transformer = Transformer.from_crs('epsg:25832', 'epsg:4326')\n",
    "\n",
    "lat, lon = transformer.transform(accident_data['linrefx'].tolist(), accident_data['linrefy'].tolist())\n",
    "\n",
    "print(lat)\n",
    "print(lon)\n",
    "\n",
    "accident_data['latitude'] = lat\n",
    "accident_data['longitude'] = lon\n",
    "\n",
    "accident_data"
   ]
  },
  {
   "cell_type": "code",
   "execution_count": null,
   "metadata": {},
   "outputs": [
    {
     "ename": "",
     "evalue": "",
     "output_type": "error",
     "traceback": [
      "\u001b[1;31mFailed to connect to the remote Jupyter Server 'http://127.0.0.1:8888/'. Verify the server is running and reachable. (Failed to connect to the remote Jupyter Server 'http://127.0.0.1:8888/'. Verify the server is running and reachable. (Forbidden).)."
     ]
    }
   ],
   "source": [
    "accident_data['latitude']\n",
    "\n",
    "accident_data.columns\n",
    "\n",
    "list = ['is_bicycle', 'is_car', 'is_pedestrian', 'is_motorcycle', 'is_truck',\n",
    "       'is_other']\n",
    "\n",
    "for l in list:\n",
    "    accident_data[l] = accident_data[l].astype(bool)\n",
    "    \n",
    "    "
   ]
  },
  {
   "cell_type": "code",
   "execution_count": null,
   "metadata": {},
   "outputs": [
    {
     "ename": "",
     "evalue": "",
     "output_type": "error",
     "traceback": [
      "\u001b[1;31mFailed to connect to the remote Jupyter Server 'http://127.0.0.1:8888/'. Verify the server is running and reachable. (Failed to connect to the remote Jupyter Server 'http://127.0.0.1:8888/'. Verify the server is running and reachable. (Forbidden).)."
     ]
    }
   ],
   "source": [
    "accident_data\n",
    "accident_data.columns\n",
    "\n",
    "list = ['weekday', 'ac_category', 'ac_type', 'ac_type2', 'ac_light', 'street_condition']\n",
    "\n",
    "for l in list:\n",
    "    accident_data[l] = accident_data[l].astype('object')\n",
    "    \n",
    "    \n",
    "accident_data['lor'] = accident_data['lor'].astype(str)\n",
    "accident_data['old_lor'] = accident_data['old_lor'].astype(str)\n",
    "\n",
    "def add_zero_at_beginning(x):\n",
    "    if len(x) == 7:\n",
    "        return '0' + x\n",
    "    return x\n",
    "\n",
    "accident_data['lor'] = accident_data['lor'].apply(add_zero_at_beginning)\n",
    "accident_data['old_lor'] = accident_data['old_lor'].apply(add_zero_at_beginning)\n",
    "\n",
    "accident_data"
   ]
  },
  {
   "cell_type": "code",
   "execution_count": null,
   "metadata": {},
   "outputs": [
    {
     "ename": "",
     "evalue": "",
     "output_type": "error",
     "traceback": [
      "\u001b[1;31mFailed to connect to the remote Jupyter Server 'http://127.0.0.1:8888/'. Verify the server is running and reachable. (Failed to connect to the remote Jupyter Server 'http://127.0.0.1:8888/'. Verify the server is running and reachable. (Forbidden).)."
     ]
    }
   ],
   "source": [
    "# accident_data['lor_1'] = accident_data['lor'].str[:-6]\n",
    "# accident_data['lor_2'] = accident_data['lor'].str[-6:-4]\n",
    "# accident_data['lor_3'] = accident_data['lor'].str[-4:-2]\n",
    "# accident_data['lor_4'] = accident_data['lor'].str[-2:]\n",
    "accident_data['district_LOR3'] = accident_data['lor'].str[:-2]\n",
    "accident_data['district_LOR2'] = accident_data['lor'].str[:-4]\n",
    "accident_data['district'] = accident_data['lor'].str[:-6]\n"
   ]
  },
  {
   "cell_type": "code",
   "execution_count": null,
   "metadata": {},
   "outputs": [
    {
     "ename": "",
     "evalue": "",
     "output_type": "error",
     "traceback": [
      "\u001b[1;31mFailed to connect to the remote Jupyter Server 'http://127.0.0.1:8888/'. Verify the server is running and reachable. (Failed to connect to the remote Jupyter Server 'http://127.0.0.1:8888/'. Verify the server is running and reachable. (Forbidden).)."
     ]
    }
   ],
   "source": []
  },
  {
   "cell_type": "code",
   "execution_count": null,
   "metadata": {},
   "outputs": [
    {
     "ename": "",
     "evalue": "",
     "output_type": "error",
     "traceback": [
      "\u001b[1;31mFailed to connect to the remote Jupyter Server 'http://127.0.0.1:8888/'. Verify the server is running and reachable. (Failed to connect to the remote Jupyter Server 'http://127.0.0.1:8888/'. Verify the server is running and reachable. (Forbidden).)."
     ]
    }
   ],
   "source": [
    "# accident_data['lor_1'].value_counts()\n",
    "\n",
    "# accident_data['count_num'].value_counts()\n",
    "\n",
    "\n",
    "# test = accident_data[accident_data['count_num'] == 1]\n",
    "# test['year'].value_counts()\n",
    "\n",
    "accident_data"
   ]
  },
  {
   "cell_type": "code",
   "execution_count": null,
   "metadata": {},
   "outputs": [
    {
     "ename": "",
     "evalue": "",
     "output_type": "error",
     "traceback": [
      "\u001b[1;31mFailed to connect to the remote Jupyter Server 'http://127.0.0.1:8888/'. Verify the server is running and reachable. (Failed to connect to the remote Jupyter Server 'http://127.0.0.1:8888/'. Verify the server is running and reachable. (Forbidden).)."
     ]
    }
   ],
   "source": []
  },
  {
   "cell_type": "code",
   "execution_count": null,
   "metadata": {},
   "outputs": [
    {
     "ename": "",
     "evalue": "",
     "output_type": "error",
     "traceback": [
      "\u001b[1;31mFailed to connect to the remote Jupyter Server 'http://127.0.0.1:8888/'. Verify the server is running and reachable. (Failed to connect to the remote Jupyter Server 'http://127.0.0.1:8888/'. Verify the server is running and reachable. (Forbidden).)."
     ]
    }
   ],
   "source": [
    "accident_data.to_csv('../data/output/accident_dataset_2018-2021.csv', index = False)\n",
    "accident_data.to_excel('../data/output/accident_dataset_2018-2021.xlsx', index = False)\n",
    "accident_data.to_pickle('../data/output/accident_dataset_2018-2021.pkl')"
   ]
  },
  {
   "cell_type": "code",
   "execution_count": null,
   "metadata": {},
   "outputs": [
    {
     "ename": "",
     "evalue": "",
     "output_type": "error",
     "traceback": [
      "\u001b[1;31mFailed to connect to the remote Jupyter Server 'http://127.0.0.1:8888/'. Verify the server is running and reachable. (Failed to connect to the remote Jupyter Server 'http://127.0.0.1:8888/'. Verify the server is running and reachable. (Forbidden).)."
     ]
    }
   ],
   "source": [
    "#TODO: 2019 füllen\n",
    "\n",
    "# lor_zuordnung = pd.DataFrame(columns = ['old_lor', 'new_lor'])\n",
    "\n",
    "# lor_zuordnung['old_lor'] = accident_data['old_lor']\n",
    "# lor_zuordnung['new_lor'] = accident_data['lor']\n",
    "\n",
    "# lor_zuordnung "
   ]
  },
  {
   "cell_type": "code",
   "execution_count": null,
   "metadata": {},
   "outputs": [
    {
     "ename": "",
     "evalue": "",
     "output_type": "error",
     "traceback": [
      "\u001b[1;31mFailed to connect to the remote Jupyter Server 'http://127.0.0.1:8888/'. Verify the server is running and reachable. (Failed to connect to the remote Jupyter Server 'http://127.0.0.1:8888/'. Verify the server is running and reachable. (Forbidden).)."
     ]
    }
   ],
   "source": [
    "lor_zuordnung = lor_zuordnung[lor_zuordnung['old_lor'] > 0]\n",
    "\n",
    "# lor_zuordnung['new_lor'].astype(int)\n",
    "# print(lor_zuordnung['old_lor'].value_counts())\n",
    "# lor_zuordnung['new_lor'].value_counts()\n",
    "\n",
    "\n",
    "\n",
    "test = lor_zuordnung.drop_duplicates(subset='old_lor')\n",
    "test['new_lor'] = test['new_lor'].astype(int)\n",
    "test = test[test['new_lor'] > 0]\n",
    "test\n"
   ]
  },
  {
   "cell_type": "code",
   "execution_count": null,
   "metadata": {},
   "outputs": [
    {
     "ename": "",
     "evalue": "",
     "output_type": "error",
     "traceback": [
      "\u001b[1;31mFailed to connect to the remote Jupyter Server 'http://127.0.0.1:8888/'. Verify the server is running and reachable. (Failed to connect to the remote Jupyter Server 'http://127.0.0.1:8888/'. Verify the server is running and reachable. (Forbidden).)."
     ]
    }
   ],
   "source": [
    "def transform_number_under_10(x):\n",
    "    if int(x) < 10:\n",
    "        x = '0' + str(int(x))\n",
    "        return x\n",
    "    else:\n",
    "        x = str(int(x))\n",
    "        return x\n",
    "    \n",
    "accident_data['lor_1'] = accident_data['lor_1'].apply(lambda x: transform_number_under_10(x))\n",
    "accident_data\n"
   ]
  },
  {
   "cell_type": "code",
   "execution_count": null,
   "metadata": {},
   "outputs": [
    {
     "ename": "",
     "evalue": "",
     "output_type": "error",
     "traceback": [
      "\u001b[1;31mFailed to connect to the remote Jupyter Server 'http://127.0.0.1:8888/'. Verify the server is running and reachable. (Failed to connect to the remote Jupyter Server 'http://127.0.0.1:8888/'. Verify the server is running and reachable. (Forbidden).)."
     ]
    }
   ],
   "source": [
    "import pickle \n",
    "\n",
    "\n",
    "with open()"
   ]
  },
  {
   "cell_type": "code",
   "execution_count": null,
   "metadata": {},
   "outputs": [
    {
     "ename": "",
     "evalue": "",
     "output_type": "error",
     "traceback": [
      "\u001b[1;31mFailed to connect to the remote Jupyter Server 'http://127.0.0.1:8888/'. Verify the server is running and reachable. (Failed to connect to the remote Jupyter Server 'http://127.0.0.1:8888/'. Verify the server is running and reachable. (Forbidden).)."
     ]
    }
   ],
   "source": [
    "# accident_data.to_csv('../data/output/accident_dataset_2018-2021.csv', index = False)\n",
    "# accident_data.to_pickle('../data/output/accident_dataset_2018-2021.pkl')"
   ]
  },
  {
   "cell_type": "code",
   "execution_count": null,
   "metadata": {},
   "outputs": [
    {
     "ename": "",
     "evalue": "",
     "output_type": "error",
     "traceback": [
      "\u001b[1;31mFailed to connect to the remote Jupyter Server 'http://127.0.0.1:8888/'. Verify the server is running and reachable. (Failed to connect to the remote Jupyter Server 'http://127.0.0.1:8888/'. Verify the server is running and reachable. (Forbidden).)."
     ]
    }
   ],
   "source": [
    "import geopandas as gpd \n"
   ]
  }
 ],
 "metadata": {
  "kernelspec": {
   "display_name": "Python 3 (ipykernel)",
   "language": "python",
   "name": "python3"
  },
  "orig_nbformat": 4
 },
 "nbformat": 4,
 "nbformat_minor": 2
}
