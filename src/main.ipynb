{
 "cells": [
  {
   "cell_type": "code",
   "execution_count": 193,
   "metadata": {},
   "outputs": [
    {
     "name": "stdout",
     "output_type": "stream",
     "text": [
      "The autoreload extension is already loaded. To reload it, use:\n",
      "  %reload_ext autoreload\n"
     ]
    }
   ],
   "source": [
    "# !pip install geopy\n",
    "\n",
    "import pandas as pd\n",
    "import numpy as np\n",
    "\n",
    "\n",
    "# from my_modules import my_functions as mybib\n",
    "from my_modules import project_functions as mybib\n",
    "\n",
    "\n",
    "import os # for file system operations\n",
    "\n",
    "%load_ext autoreload\n",
    "%autoreload 2"
   ]
  },
  {
   "cell_type": "markdown",
   "metadata": {},
   "source": [
    "## Data Import"
   ]
  },
  {
   "cell_type": "markdown",
   "metadata": {},
   "source": [
    "### Population datasets"
   ]
  },
  {
   "cell_type": "code",
   "execution_count": 194,
   "metadata": {},
   "outputs": [
    {
     "name": "stdout",
     "output_type": "stream",
     "text": [
      "Loading all files from ../data/input/population/: ['SB_A01-16-00_2022h02_BE.xlsx']\n"
     ]
    },
    {
     "name": "stderr",
     "output_type": "stream",
     "text": [
      "100%|████████████████████████████████████████████████████████████████████████████████████| 1/1 [00:00<00:00,  4.32it/s]"
     ]
    },
    {
     "name": "stdout",
     "output_type": "stream",
     "text": [
      "Population data files where successfully loaded, combined and stored as a pickle file. \n",
      "Path: ../data/output/temp_analysis/total_population_dataset.pkl \n",
      "Dataframe preview:\n"
     ]
    },
    {
     "name": "stderr",
     "output_type": "stream",
     "text": [
      "\n"
     ]
    },
    {
     "data": {
      "text/html": [
       "<div>\n",
       "<style scoped>\n",
       "    .dataframe tbody tr th:only-of-type {\n",
       "        vertical-align: middle;\n",
       "    }\n",
       "\n",
       "    .dataframe tbody tr th {\n",
       "        vertical-align: top;\n",
       "    }\n",
       "\n",
       "    .dataframe thead th {\n",
       "        text-align: right;\n",
       "    }\n",
       "</style>\n",
       "<table border=\"1\" class=\"dataframe\">\n",
       "  <thead>\n",
       "    <tr style=\"text-align: right;\">\n",
       "      <th></th>\n",
       "      <th>key</th>\n",
       "      <th>year</th>\n",
       "      <th>half_year</th>\n",
       "      <th>lor</th>\n",
       "      <th>total_population</th>\n",
       "      <th>-6</th>\n",
       "      <th>6-15</th>\n",
       "      <th>15-18</th>\n",
       "      <th>18-27</th>\n",
       "      <th>27-45</th>\n",
       "      <th>45-55</th>\n",
       "      <th>55-65</th>\n",
       "      <th>65+</th>\n",
       "    </tr>\n",
       "  </thead>\n",
       "  <tbody>\n",
       "    <tr>\n",
       "      <th>0</th>\n",
       "      <td>01100101-2022-2</td>\n",
       "      <td>2022</td>\n",
       "      <td>2</td>\n",
       "      <td>01100101</td>\n",
       "      <td>3561</td>\n",
       "      <td>165</td>\n",
       "      <td>209</td>\n",
       "      <td>25</td>\n",
       "      <td>395</td>\n",
       "      <td>1271</td>\n",
       "      <td>375</td>\n",
       "      <td>403</td>\n",
       "      <td>718</td>\n",
       "    </tr>\n",
       "    <tr>\n",
       "      <th>1</th>\n",
       "      <td>01100102-2022-2</td>\n",
       "      <td>2022</td>\n",
       "      <td>2</td>\n",
       "      <td>01100102</td>\n",
       "      <td>2002</td>\n",
       "      <td>113</td>\n",
       "      <td>129</td>\n",
       "      <td>27</td>\n",
       "      <td>174</td>\n",
       "      <td>764</td>\n",
       "      <td>274</td>\n",
       "      <td>262</td>\n",
       "      <td>259</td>\n",
       "    </tr>\n",
       "    <tr>\n",
       "      <th>2</th>\n",
       "      <td>01100103-2022-2</td>\n",
       "      <td>2022</td>\n",
       "      <td>2</td>\n",
       "      <td>01100103</td>\n",
       "      <td>5662</td>\n",
       "      <td>282</td>\n",
       "      <td>326</td>\n",
       "      <td>102</td>\n",
       "      <td>741</td>\n",
       "      <td>1791</td>\n",
       "      <td>653</td>\n",
       "      <td>747</td>\n",
       "      <td>1020</td>\n",
       "    </tr>\n",
       "    <tr>\n",
       "      <th>3</th>\n",
       "      <td>01100104-2022-2</td>\n",
       "      <td>2022</td>\n",
       "      <td>2</td>\n",
       "      <td>01100104</td>\n",
       "      <td>5029</td>\n",
       "      <td>260</td>\n",
       "      <td>397</td>\n",
       "      <td>137</td>\n",
       "      <td>801</td>\n",
       "      <td>1886</td>\n",
       "      <td>601</td>\n",
       "      <td>554</td>\n",
       "      <td>393</td>\n",
       "    </tr>\n",
       "    <tr>\n",
       "      <th>4</th>\n",
       "      <td>01100205-2022-2</td>\n",
       "      <td>2022</td>\n",
       "      <td>2</td>\n",
       "      <td>01100205</td>\n",
       "      <td>3009</td>\n",
       "      <td>147</td>\n",
       "      <td>178</td>\n",
       "      <td>52</td>\n",
       "      <td>390</td>\n",
       "      <td>1122</td>\n",
       "      <td>331</td>\n",
       "      <td>319</td>\n",
       "      <td>470</td>\n",
       "    </tr>\n",
       "  </tbody>\n",
       "</table>\n",
       "</div>"
      ],
      "text/plain": [
       "               key  year  half_year       lor  total_population   -6  6-15  \\\n",
       "0  01100101-2022-2  2022          2  01100101              3561  165   209   \n",
       "1  01100102-2022-2  2022          2  01100102              2002  113   129   \n",
       "2  01100103-2022-2  2022          2  01100103              5662  282   326   \n",
       "3  01100104-2022-2  2022          2  01100104              5029  260   397   \n",
       "4  01100205-2022-2  2022          2  01100205              3009  147   178   \n",
       "\n",
       "   15-18  18-27  27-45  45-55  55-65   65+  \n",
       "0     25    395   1271    375    403   718  \n",
       "1     27    174    764    274    262   259  \n",
       "2    102    741   1791    653    747  1020  \n",
       "3    137    801   1886    601    554   393  \n",
       "4     52    390   1122    331    319   470  "
      ]
     },
     "metadata": {},
     "output_type": "display_data"
    }
   ],
   "source": [
    "# creating a list of all files in the directory\n",
    "list_population_files = os.listdir('../data/input/population')\n",
    "\n",
    "population_df = mybib.get_population_data(list_population_files)"
   ]
  },
  {
   "cell_type": "code",
   "execution_count": null,
   "metadata": {},
   "outputs": [],
   "source": []
  },
  {
   "cell_type": "markdown",
   "metadata": {},
   "source": [
    "### Accident datasets"
   ]
  },
  {
   "cell_type": "code",
   "execution_count": 195,
   "metadata": {},
   "outputs": [
    {
     "name": "stdout",
     "output_type": "stream",
     "text": [
      "Loading all files from ../data/input/road_accidents/: ['berlin_road_accidents_2018.csv', 'berlin_road_accidents_2019.csv', 'berlin_road_accidents_2020.csv', 'berlin_road_accidents_2021.csv']\n",
      "Accident data files where successfully loaded, combined and stored as a pickle file. \n",
      "Path: ../data/output/temp_analysis/accident_dataset.pkl \n",
      "Dataframe preview:\n"
     ]
    },
    {
     "data": {
      "text/html": [
       "<div>\n",
       "<style scoped>\n",
       "    .dataframe tbody tr th:only-of-type {\n",
       "        vertical-align: middle;\n",
       "    }\n",
       "\n",
       "    .dataframe tbody tr th {\n",
       "        vertical-align: top;\n",
       "    }\n",
       "\n",
       "    .dataframe thead th {\n",
       "        text-align: right;\n",
       "    }\n",
       "</style>\n",
       "<table border=\"1\" class=\"dataframe\">\n",
       "  <thead>\n",
       "    <tr style=\"text-align: right;\">\n",
       "      <th></th>\n",
       "      <th>key</th>\n",
       "      <th>object_id</th>\n",
       "      <th>old_lor</th>\n",
       "      <th>street_default</th>\n",
       "      <th>lor</th>\n",
       "      <th>year</th>\n",
       "      <th>month</th>\n",
       "      <th>hour</th>\n",
       "      <th>weekday</th>\n",
       "      <th>ac_category</th>\n",
       "      <th>...</th>\n",
       "      <th>street_condition</th>\n",
       "      <th>linrefx</th>\n",
       "      <th>linrefy</th>\n",
       "      <th>xgcswgs84</th>\n",
       "      <th>ygcswgs84</th>\n",
       "      <th>latitude</th>\n",
       "      <th>longitude</th>\n",
       "      <th>lor_3</th>\n",
       "      <th>lor_2</th>\n",
       "      <th>lor_1</th>\n",
       "    </tr>\n",
       "  </thead>\n",
       "  <tbody>\n",
       "    <tr>\n",
       "      <th>0</th>\n",
       "      <td>112695-2018-2500729</td>\n",
       "      <td>112695</td>\n",
       "      <td>02050602</td>\n",
       "      <td>Samariterviertel</td>\n",
       "      <td>02500729</td>\n",
       "      <td>2018</td>\n",
       "      <td>1</td>\n",
       "      <td>15</td>\n",
       "      <td>4</td>\n",
       "      <td>3</td>\n",
       "      <td>...</td>\n",
       "      <td>1</td>\n",
       "      <td>803604.1562</td>\n",
       "      <td>5827580.738</td>\n",
       "      <td>13.475018</td>\n",
       "      <td>52.513597</td>\n",
       "      <td>52.513597</td>\n",
       "      <td>13.475018</td>\n",
       "      <td>025007</td>\n",
       "      <td>0250</td>\n",
       "      <td>02</td>\n",
       "    </tr>\n",
       "    <tr>\n",
       "      <th>1</th>\n",
       "      <td>112705-2018-12500824</td>\n",
       "      <td>112705</td>\n",
       "      <td>12304314</td>\n",
       "      <td>Ziekowstraße/Freie Scholle</td>\n",
       "      <td>12500824</td>\n",
       "      <td>2018</td>\n",
       "      <td>1</td>\n",
       "      <td>11</td>\n",
       "      <td>2</td>\n",
       "      <td>3</td>\n",
       "      <td>...</td>\n",
       "      <td>0</td>\n",
       "      <td>790639.5854</td>\n",
       "      <td>5835009.589</td>\n",
       "      <td>13.291022</td>\n",
       "      <td>52.587259</td>\n",
       "      <td>52.587259</td>\n",
       "      <td>13.291022</td>\n",
       "      <td>125008</td>\n",
       "      <td>1250</td>\n",
       "      <td>12</td>\n",
       "    </tr>\n",
       "    <tr>\n",
       "      <th>2</th>\n",
       "      <td>112726-2018-2400520</td>\n",
       "      <td>112726</td>\n",
       "      <td>02040501</td>\n",
       "      <td>Barnimkiez</td>\n",
       "      <td>02400520</td>\n",
       "      <td>2018</td>\n",
       "      <td>1</td>\n",
       "      <td>9</td>\n",
       "      <td>3</td>\n",
       "      <td>3</td>\n",
       "      <td>...</td>\n",
       "      <td>0</td>\n",
       "      <td>799827.9618</td>\n",
       "      <td>5828733.523</td>\n",
       "      <td>13.420578</td>\n",
       "      <td>52.526019</td>\n",
       "      <td>52.526019</td>\n",
       "      <td>13.420578</td>\n",
       "      <td>024005</td>\n",
       "      <td>0240</td>\n",
       "      <td>02</td>\n",
       "    </tr>\n",
       "    <tr>\n",
       "      <th>3</th>\n",
       "      <td>112737-2018-7200308</td>\n",
       "      <td>112737</td>\n",
       "      <td>07020202</td>\n",
       "      <td>Volkspark (Rudolf-Wilde-Park)</td>\n",
       "      <td>07200308</td>\n",
       "      <td>2018</td>\n",
       "      <td>1</td>\n",
       "      <td>17</td>\n",
       "      <td>2</td>\n",
       "      <td>3</td>\n",
       "      <td>...</td>\n",
       "      <td>0</td>\n",
       "      <td>795223.5090</td>\n",
       "      <td>5823525.402</td>\n",
       "      <td>13.348288</td>\n",
       "      <td>52.481844</td>\n",
       "      <td>52.481844</td>\n",
       "      <td>13.348288</td>\n",
       "      <td>072003</td>\n",
       "      <td>0720</td>\n",
       "      <td>07</td>\n",
       "    </tr>\n",
       "    <tr>\n",
       "      <th>4</th>\n",
       "      <td>112747-2018-3200206</td>\n",
       "      <td>112747</td>\n",
       "      <td>03020209</td>\n",
       "      <td>Niederschönhausen</td>\n",
       "      <td>03200206</td>\n",
       "      <td>2018</td>\n",
       "      <td>1</td>\n",
       "      <td>15</td>\n",
       "      <td>4</td>\n",
       "      <td>3</td>\n",
       "      <td>...</td>\n",
       "      <td>1</td>\n",
       "      <td>798261.3849</td>\n",
       "      <td>5835047.260</td>\n",
       "      <td>13.403228</td>\n",
       "      <td>52.583472</td>\n",
       "      <td>52.583472</td>\n",
       "      <td>13.403228</td>\n",
       "      <td>032002</td>\n",
       "      <td>0320</td>\n",
       "      <td>03</td>\n",
       "    </tr>\n",
       "  </tbody>\n",
       "</table>\n",
       "<p>5 rows × 29 columns</p>\n",
       "</div>"
      ],
      "text/plain": [
       "                    key  object_id   old_lor                 street_default  \\\n",
       "0   112695-2018-2500729     112695  02050602               Samariterviertel   \n",
       "1  112705-2018-12500824     112705  12304314     Ziekowstraße/Freie Scholle   \n",
       "2   112726-2018-2400520     112726  02040501                     Barnimkiez   \n",
       "3   112737-2018-7200308     112737  07020202  Volkspark (Rudolf-Wilde-Park)   \n",
       "4   112747-2018-3200206     112747  03020209              Niederschönhausen   \n",
       "\n",
       "        lor  year  month  hour weekday ac_category  ... street_condition  \\\n",
       "0  02500729  2018      1    15       4           3  ...                1   \n",
       "1  12500824  2018      1    11       2           3  ...                0   \n",
       "2  02400520  2018      1     9       3           3  ...                0   \n",
       "3  07200308  2018      1    17       2           3  ...                0   \n",
       "4  03200206  2018      1    15       4           3  ...                1   \n",
       "\n",
       "       linrefx      linrefy  xgcswgs84  ygcswgs84   latitude  longitude  \\\n",
       "0  803604.1562  5827580.738  13.475018  52.513597  52.513597  13.475018   \n",
       "1  790639.5854  5835009.589  13.291022  52.587259  52.587259  13.291022   \n",
       "2  799827.9618  5828733.523  13.420578  52.526019  52.526019  13.420578   \n",
       "3  795223.5090  5823525.402  13.348288  52.481844  52.481844  13.348288   \n",
       "4  798261.3849  5835047.260  13.403228  52.583472  52.583472  13.403228   \n",
       "\n",
       "    lor_3  lor_2 lor_1  \n",
       "0  025007   0250    02  \n",
       "1  125008   1250    12  \n",
       "2  024005   0240    02  \n",
       "3  072003   0720    07  \n",
       "4  032002   0320    03  \n",
       "\n",
       "[5 rows x 29 columns]"
      ]
     },
     "metadata": {},
     "output_type": "display_data"
    }
   ],
   "source": [
    "accident_df = mybib.get_accident_data()"
   ]
  },
  {
   "cell_type": "code",
   "execution_count": null,
   "metadata": {},
   "outputs": [],
   "source": []
  },
  {
   "cell_type": "markdown",
   "metadata": {},
   "source": [
    "### Geo datasets"
   ]
  },
  {
   "cell_type": "code",
   "execution_count": 196,
   "metadata": {},
   "outputs": [
    {
     "name": "stdout",
     "output_type": "stream",
     "text": [
      "Loading all files from ../data/input/geo_data/: ['Detailnetz-Strassenabschnitte.geojson', 'Flaeche.xlsx', 'lor_bezirksregionen_2021.geojson', 'lor_ortsteile.geojson', 'lor_planungsraeume_2021.geojson', 'lor_prognoseraeume_2021.geojson']\n",
      "Geo data files where successfully loaded, combined and stored as a pickle file. \n",
      "Path: ../data/output/temp_analysis/gdf_data.pkl \n",
      "Dataframe preview:\n"
     ]
    },
    {
     "data": {
      "text/html": [
       "<div>\n",
       "<style scoped>\n",
       "    .dataframe tbody tr th:only-of-type {\n",
       "        vertical-align: middle;\n",
       "    }\n",
       "\n",
       "    .dataframe tbody tr th {\n",
       "        vertical-align: top;\n",
       "    }\n",
       "\n",
       "    .dataframe thead th {\n",
       "        text-align: right;\n",
       "    }\n",
       "</style>\n",
       "<table border=\"1\" class=\"dataframe\">\n",
       "  <thead>\n",
       "    <tr style=\"text-align: right;\">\n",
       "      <th></th>\n",
       "      <th>lor_4</th>\n",
       "      <th>lor4_name</th>\n",
       "      <th>area_in_sqm_lor4</th>\n",
       "      <th>geometry_lor4</th>\n",
       "      <th>lor_3</th>\n",
       "      <th>lor_3_name</th>\n",
       "      <th>geometry_lor3</th>\n",
       "      <th>lor_2</th>\n",
       "      <th>lor_2_name</th>\n",
       "      <th>geometry_lor2</th>\n",
       "      <th>lor_1</th>\n",
       "      <th>lor_1_name</th>\n",
       "    </tr>\n",
       "  </thead>\n",
       "  <tbody>\n",
       "    <tr>\n",
       "      <th>0</th>\n",
       "      <td>11501341</td>\n",
       "      <td>Karlshorst Süd</td>\n",
       "      <td>2294021.72</td>\n",
       "      <td>MULTIPOLYGON (((400826.929 5814871.126, 400825...</td>\n",
       "      <td>115013</td>\n",
       "      <td>Karlshorst</td>\n",
       "      <td>MULTIPOLYGON (((400825.707 5814869.607, 400807...</td>\n",
       "      <td>1150</td>\n",
       "      <td>Lichtenberg Süd</td>\n",
       "      <td>MULTIPOLYGON (((400807.738 5814847.255, 400804...</td>\n",
       "      <td>11</td>\n",
       "      <td>Lichtenberg</td>\n",
       "    </tr>\n",
       "    <tr>\n",
       "      <th>1</th>\n",
       "      <td>07601340</td>\n",
       "      <td>Tirschenreuther Ring Ost</td>\n",
       "      <td>413969.33</td>\n",
       "      <td>MULTIPOLYGON (((387795.701 5807587.153, 387789...</td>\n",
       "      <td>076013</td>\n",
       "      <td>Marienfelde Süd</td>\n",
       "      <td>MULTIPOLYGON (((388635.303 5808160.013, 388639...</td>\n",
       "      <td>0760</td>\n",
       "      <td>Marienfelde / Lichtenrade</td>\n",
       "      <td>MULTIPOLYGON (((392294.859 5804064.177, 392292...</td>\n",
       "      <td>07</td>\n",
       "      <td>Tempelhof-Schöneberg</td>\n",
       "    </tr>\n",
       "    <tr>\n",
       "      <th>2</th>\n",
       "      <td>02500831</td>\n",
       "      <td>Wismarplatz</td>\n",
       "      <td>248988.29</td>\n",
       "      <td>MULTIPOLYGON (((396010.552 5819339.570, 396021...</td>\n",
       "      <td>025008</td>\n",
       "      <td>Frankfurter Allee Süd FK</td>\n",
       "      <td>MULTIPOLYGON (((397432.655 5816357.861, 397413...</td>\n",
       "      <td>0250</td>\n",
       "      <td>Friedrichshain Ost</td>\n",
       "      <td>MULTIPOLYGON (((397369.752 5816372.894, 397305...</td>\n",
       "      <td>02</td>\n",
       "      <td>Friedrichshain-Kreuzberg</td>\n",
       "    </tr>\n",
       "    <tr>\n",
       "      <th>3</th>\n",
       "      <td>12601134</td>\n",
       "      <td>Märkisches Zentrum</td>\n",
       "      <td>1127855.84</td>\n",
       "      <td>MULTIPOLYGON (((387367.428 5828619.763, 387315...</td>\n",
       "      <td>126011</td>\n",
       "      <td>MV Nord</td>\n",
       "      <td>MULTIPOLYGON (((388648.807 5828699.019, 388617...</td>\n",
       "      <td>1260</td>\n",
       "      <td>Märkisches Viertel</td>\n",
       "      <td>MULTIPOLYGON (((389463.444 5828733.427, 389461...</td>\n",
       "      <td>12</td>\n",
       "      <td>Reinickendorf</td>\n",
       "    </tr>\n",
       "    <tr>\n",
       "      <th>4</th>\n",
       "      <td>07601547</td>\n",
       "      <td>Horstwalder Straße</td>\n",
       "      <td>941433.95</td>\n",
       "      <td>MULTIPOLYGON (((391807.174 5805331.900, 391808...</td>\n",
       "      <td>076015</td>\n",
       "      <td>Lichtenrade Süd</td>\n",
       "      <td>MULTIPOLYGON (((392932.348 5805411.254, 392939...</td>\n",
       "      <td>0760</td>\n",
       "      <td>Marienfelde / Lichtenrade</td>\n",
       "      <td>MULTIPOLYGON (((392294.859 5804064.177, 392292...</td>\n",
       "      <td>07</td>\n",
       "      <td>Tempelhof-Schöneberg</td>\n",
       "    </tr>\n",
       "  </tbody>\n",
       "</table>\n",
       "</div>"
      ],
      "text/plain": [
       "      lor_4                 lor4_name  area_in_sqm_lor4  \\\n",
       "0  11501341            Karlshorst Süd        2294021.72   \n",
       "1  07601340  Tirschenreuther Ring Ost         413969.33   \n",
       "2  02500831               Wismarplatz         248988.29   \n",
       "3  12601134        Märkisches Zentrum        1127855.84   \n",
       "4  07601547        Horstwalder Straße         941433.95   \n",
       "\n",
       "                                       geometry_lor4   lor_3  \\\n",
       "0  MULTIPOLYGON (((400826.929 5814871.126, 400825...  115013   \n",
       "1  MULTIPOLYGON (((387795.701 5807587.153, 387789...  076013   \n",
       "2  MULTIPOLYGON (((396010.552 5819339.570, 396021...  025008   \n",
       "3  MULTIPOLYGON (((387367.428 5828619.763, 387315...  126011   \n",
       "4  MULTIPOLYGON (((391807.174 5805331.900, 391808...  076015   \n",
       "\n",
       "                 lor_3_name  \\\n",
       "0                Karlshorst   \n",
       "1           Marienfelde Süd   \n",
       "2  Frankfurter Allee Süd FK   \n",
       "3                   MV Nord   \n",
       "4           Lichtenrade Süd   \n",
       "\n",
       "                                       geometry_lor3 lor_2  \\\n",
       "0  MULTIPOLYGON (((400825.707 5814869.607, 400807...  1150   \n",
       "1  MULTIPOLYGON (((388635.303 5808160.013, 388639...  0760   \n",
       "2  MULTIPOLYGON (((397432.655 5816357.861, 397413...  0250   \n",
       "3  MULTIPOLYGON (((388648.807 5828699.019, 388617...  1260   \n",
       "4  MULTIPOLYGON (((392932.348 5805411.254, 392939...  0760   \n",
       "\n",
       "                  lor_2_name  \\\n",
       "0            Lichtenberg Süd   \n",
       "1  Marienfelde / Lichtenrade   \n",
       "2         Friedrichshain Ost   \n",
       "3         Märkisches Viertel   \n",
       "4  Marienfelde / Lichtenrade   \n",
       "\n",
       "                                       geometry_lor2 lor_1  \\\n",
       "0  MULTIPOLYGON (((400807.738 5814847.255, 400804...    11   \n",
       "1  MULTIPOLYGON (((392294.859 5804064.177, 392292...    07   \n",
       "2  MULTIPOLYGON (((397369.752 5816372.894, 397305...    02   \n",
       "3  MULTIPOLYGON (((389463.444 5828733.427, 389461...    12   \n",
       "4  MULTIPOLYGON (((392294.859 5804064.177, 392292...    07   \n",
       "\n",
       "                 lor_1_name  \n",
       "0               Lichtenberg  \n",
       "1      Tempelhof-Schöneberg  \n",
       "2  Friedrichshain-Kreuzberg  \n",
       "3             Reinickendorf  \n",
       "4      Tempelhof-Schöneberg  "
      ]
     },
     "metadata": {},
     "output_type": "display_data"
    }
   ],
   "source": [
    "geo_df = mybib.import_geo_data()\n"
   ]
  },
  {
   "cell_type": "code",
   "execution_count": null,
   "metadata": {},
   "outputs": [],
   "source": []
  },
  {
   "cell_type": "markdown",
   "metadata": {},
   "source": [
    "## Data Wrangling "
   ]
  },
  {
   "cell_type": "markdown",
   "metadata": {},
   "source": [
    "### predict missing LOR values using  KNeighborsClassifier"
   ]
  },
  {
   "cell_type": "code",
   "execution_count": 199,
   "metadata": {},
   "outputs": [
    {
     "name": "stderr",
     "output_type": "stream",
     "text": [
      "SettingWithCopyWarning: \n",
      "A value is trying to be set on a copy of a slice from a DataFrame.\n",
      "Try using .loc[row_indexer,col_indexer] = value instead\n",
      "\n",
      "See the caveats in the documentation: https://pandas.pydata.org/pandas-docs/stable/user_guide/indexing.html#returning-a-view-versus-a-copy [project_functions.py:459]\n"
     ]
    },
    {
     "name": "stdout",
     "output_type": "stream",
     "text": [
      "R2 Testscore: 0.9503063308373043\n",
      "R2 Train: 1.0\n"
     ]
    },
    {
     "name": "stderr",
     "output_type": "stream",
     "text": [
      "SettingWithCopyWarning: \n",
      "A value is trying to be set on a copy of a slice from a DataFrame.\n",
      "Try using .loc[row_indexer,col_indexer] = value instead\n",
      "\n",
      "See the caveats in the documentation: https://pandas.pydata.org/pandas-docs/stable/user_guide/indexing.html#returning-a-view-versus-a-copy [project_functions.py:484]\n"
     ]
    },
    {
     "data": {
      "text/plain": [
       "Index(['key', 'object_id', 'old_lor', 'street_default', 'lor_x', 'year',\n",
       "       'month', 'hour', 'weekday', 'ac_category', 'ac_type', 'ac_type2',\n",
       "       'ac_light', 'is_bicycle', 'is_car', 'is_pedestrian', 'is_motorcycle',\n",
       "       'is_truck', 'is_other', 'street_condition', 'linrefx', 'linrefy',\n",
       "       'xgcswgs84', 'ygcswgs84', 'latitude_x', 'longitude_x', 'lor_3', 'lor_2',\n",
       "       'lor_1'],\n",
       "      dtype='object')"
      ]
     },
     "execution_count": 199,
     "metadata": {},
     "output_type": "execute_result"
    }
   ],
   "source": [
    "accident_df_y = mybib.predict_LOR_values_based_on_lat_lon(accident_df)\n",
    "accident_df_y.columns"
   ]
  },
  {
   "cell_type": "code",
   "execution_count": 198,
   "metadata": {},
   "outputs": [
    {
     "name": "stdout",
     "output_type": "stream",
     "text": [
      "Start finalizing accident dataset.\n",
      "Calculating distances to city center for each row:\n"
     ]
    },
    {
     "name": "stderr",
     "output_type": "stream",
     "text": [
      "100%|██████████████████████████████████████████████████████████████████████████| 50119/50119 [00:10<00:00, 4680.24it/s]\n"
     ]
    },
    {
     "name": "stdout",
     "output_type": "stream",
     "text": [
      "Final accident datafile is saved as csv and xslx. \n",
      "Path: ../data/output/tableau\n",
      "\n",
      "Start combining geo and population data and create a summary table.\n",
      "Calculating distances to city center for each row:\n"
     ]
    },
    {
     "ename": "KeyError",
     "evalue": "'is_bycicle'",
     "output_type": "error",
     "traceback": [
      "\u001b[1;31m---------------------------------------------------------------------------\u001b[0m",
      "\u001b[1;31mKeyError\u001b[0m                                  Traceback (most recent call last)",
      "File \u001b[1;32m~\\anaconda3\\lib\\site-packages\\pandas\\core\\indexes\\base.py:3802\u001b[0m, in \u001b[0;36mIndex.get_loc\u001b[1;34m(self, key, method, tolerance)\u001b[0m\n\u001b[0;32m   3801\u001b[0m \u001b[39mtry\u001b[39;00m:\n\u001b[1;32m-> 3802\u001b[0m     \u001b[39mreturn\u001b[39;00m \u001b[39mself\u001b[39;49m\u001b[39m.\u001b[39;49m_engine\u001b[39m.\u001b[39;49mget_loc(casted_key)\n\u001b[0;32m   3803\u001b[0m \u001b[39mexcept\u001b[39;00m \u001b[39mKeyError\u001b[39;00m \u001b[39mas\u001b[39;00m err:\n",
      "File \u001b[1;32m~\\anaconda3\\lib\\site-packages\\pandas\\_libs\\index.pyx:138\u001b[0m, in \u001b[0;36mpandas._libs.index.IndexEngine.get_loc\u001b[1;34m()\u001b[0m\n",
      "File \u001b[1;32m~\\anaconda3\\lib\\site-packages\\pandas\\_libs\\index.pyx:165\u001b[0m, in \u001b[0;36mpandas._libs.index.IndexEngine.get_loc\u001b[1;34m()\u001b[0m\n",
      "File \u001b[1;32mpandas\\_libs\\hashtable_class_helper.pxi:5745\u001b[0m, in \u001b[0;36mpandas._libs.hashtable.PyObjectHashTable.get_item\u001b[1;34m()\u001b[0m\n",
      "File \u001b[1;32mpandas\\_libs\\hashtable_class_helper.pxi:5753\u001b[0m, in \u001b[0;36mpandas._libs.hashtable.PyObjectHashTable.get_item\u001b[1;34m()\u001b[0m\n",
      "\u001b[1;31mKeyError\u001b[0m: 'is_bycicle'",
      "\nThe above exception was the direct cause of the following exception:\n",
      "\u001b[1;31mKeyError\u001b[0m                                  Traceback (most recent call last)",
      "Cell \u001b[1;32mIn[198], line 1\u001b[0m\n\u001b[1;32m----> 1\u001b[0m acc_df, summary_df \u001b[39m=\u001b[39m mybib\u001b[39m.\u001b[39;49mdata_wrangling(accident_df_y, geo_df, population_df)\n\u001b[0;32m      2\u001b[0m summary_df\n",
      "File \u001b[1;32mc:\\Users\\Domen\\IronHack\\01_projects\\IH_project_mid-term\\src\\my_modules\\project_functions.py:440\u001b[0m, in \u001b[0;36mdata_wrangling\u001b[1;34m(accident_df, geo_df, population_df)\u001b[0m\n\u001b[0;32m    437\u001b[0m population_df \u001b[39m=\u001b[39m population_df\u001b[39m.\u001b[39mloc[:,[\u001b[39m'\u001b[39m\u001b[39mlor\u001b[39m\u001b[39m'\u001b[39m, \u001b[39m'\u001b[39m\u001b[39mtotal_population\u001b[39m\u001b[39m'\u001b[39m]]\n\u001b[0;32m    438\u001b[0m summary_table \u001b[39m=\u001b[39m pd\u001b[39m.\u001b[39mmerge(population_df, geo_df, left_on \u001b[39m=\u001b[39m \u001b[39m'\u001b[39m\u001b[39mlor\u001b[39m\u001b[39m'\u001b[39m, right_on \u001b[39m=\u001b[39m \u001b[39m'\u001b[39m\u001b[39mlor_4\u001b[39m\u001b[39m'\u001b[39m, how \u001b[39m=\u001b[39m \u001b[39m'\u001b[39m\u001b[39mleft\u001b[39m\u001b[39m'\u001b[39m)\n\u001b[1;32m--> 440\u001b[0m cycle_df \u001b[39m=\u001b[39m accident_df\u001b[39m.\u001b[39mloc[accident_df[\u001b[39m'\u001b[39;49m\u001b[39mis_bycicle\u001b[39;49m\u001b[39m'\u001b[39;49m] \u001b[39m==\u001b[39m \u001b[39mTrue\u001b[39;00m]\n\u001b[0;32m    442\u001b[0m temp \u001b[39m=\u001b[39m cycle_df\u001b[39m.\u001b[39mgroupby([\u001b[39m'\u001b[39m\u001b[39mlor_x\u001b[39m\u001b[39m'\u001b[39m])\u001b[39m.\u001b[39magg({\u001b[39m'\u001b[39m\u001b[39mkey\u001b[39m\u001b[39m'\u001b[39m:pd\u001b[39m.\u001b[39mSeries\u001b[39m.\u001b[39mnunique, \u001b[39m'\u001b[39m\u001b[39mdistance_to_CC\u001b[39m\u001b[39m'\u001b[39m:np\u001b[39m.\u001b[39mmean})\u001b[39m.\u001b[39mreset_index()\n\u001b[0;32m    443\u001b[0m temp\u001b[39m.\u001b[39mcolumns \u001b[39m=\u001b[39m [\u001b[39m'\u001b[39m\u001b[39mlor\u001b[39m\u001b[39m'\u001b[39m, \u001b[39m'\u001b[39m\u001b[39mtotal_accident_per_lor\u001b[39m\u001b[39m'\u001b[39m, \u001b[39m'\u001b[39m\u001b[39mavg_distance_to_CC_per_lor\u001b[39m\u001b[39m'\u001b[39m]\n",
      "File \u001b[1;32m~\\anaconda3\\lib\\site-packages\\pandas\\core\\frame.py:3807\u001b[0m, in \u001b[0;36mDataFrame.__getitem__\u001b[1;34m(self, key)\u001b[0m\n\u001b[0;32m   3805\u001b[0m \u001b[39mif\u001b[39;00m \u001b[39mself\u001b[39m\u001b[39m.\u001b[39mcolumns\u001b[39m.\u001b[39mnlevels \u001b[39m>\u001b[39m \u001b[39m1\u001b[39m:\n\u001b[0;32m   3806\u001b[0m     \u001b[39mreturn\u001b[39;00m \u001b[39mself\u001b[39m\u001b[39m.\u001b[39m_getitem_multilevel(key)\n\u001b[1;32m-> 3807\u001b[0m indexer \u001b[39m=\u001b[39m \u001b[39mself\u001b[39;49m\u001b[39m.\u001b[39;49mcolumns\u001b[39m.\u001b[39;49mget_loc(key)\n\u001b[0;32m   3808\u001b[0m \u001b[39mif\u001b[39;00m is_integer(indexer):\n\u001b[0;32m   3809\u001b[0m     indexer \u001b[39m=\u001b[39m [indexer]\n",
      "File \u001b[1;32m~\\anaconda3\\lib\\site-packages\\pandas\\core\\indexes\\base.py:3804\u001b[0m, in \u001b[0;36mIndex.get_loc\u001b[1;34m(self, key, method, tolerance)\u001b[0m\n\u001b[0;32m   3802\u001b[0m     \u001b[39mreturn\u001b[39;00m \u001b[39mself\u001b[39m\u001b[39m.\u001b[39m_engine\u001b[39m.\u001b[39mget_loc(casted_key)\n\u001b[0;32m   3803\u001b[0m \u001b[39mexcept\u001b[39;00m \u001b[39mKeyError\u001b[39;00m \u001b[39mas\u001b[39;00m err:\n\u001b[1;32m-> 3804\u001b[0m     \u001b[39mraise\u001b[39;00m \u001b[39mKeyError\u001b[39;00m(key) \u001b[39mfrom\u001b[39;00m \u001b[39merr\u001b[39;00m\n\u001b[0;32m   3805\u001b[0m \u001b[39mexcept\u001b[39;00m \u001b[39mTypeError\u001b[39;00m:\n\u001b[0;32m   3806\u001b[0m     \u001b[39m# If we have a listlike key, _check_indexing_error will raise\u001b[39;00m\n\u001b[0;32m   3807\u001b[0m     \u001b[39m#  InvalidIndexError. Otherwise we fall through and re-raise\u001b[39;00m\n\u001b[0;32m   3808\u001b[0m     \u001b[39m#  the TypeError.\u001b[39;00m\n\u001b[0;32m   3809\u001b[0m     \u001b[39mself\u001b[39m\u001b[39m.\u001b[39m_check_indexing_error(key)\n",
      "\u001b[1;31mKeyError\u001b[0m: 'is_bycicle'"
     ]
    }
   ],
   "source": [
    "acc_df, summary_df = mybib.data_wrangling(accident_df_y, geo_df, population_df)\n",
    "summary_df"
   ]
  },
  {
   "cell_type": "code",
   "execution_count": null,
   "metadata": {},
   "outputs": [],
   "source": [
    "H0_testing_data = summary_df.loc[:, ['lor', 'total_accident_per_lor', 'avg_distance_to_CC_per_lor', 'population_density_per_lor_in_sqkm']]\n",
    "H0_testing_data.to_pickle('../data/output/temp_analysis/H0_testing_data.pkl')\n"
   ]
  },
  {
   "cell_type": "code",
   "execution_count": null,
   "metadata": {},
   "outputs": [
    {
     "ename": "KeyError",
     "evalue": "\"['street_default', 'is_motorcycle', 'is_truck', 'is_other', 'linrefx', 'linrefy', 'xgcswgs84', 'ygcswgs84', 'ac_type2', 'street_condition', 'ac_light', 'object_id'] not found in axis\"",
     "output_type": "error",
     "traceback": [
      "\u001b[1;31m---------------------------------------------------------------------------\u001b[0m",
      "\u001b[1;31mKeyError\u001b[0m                                  Traceback (most recent call last)",
      "Cell \u001b[1;32mIn[192], line 1\u001b[0m\n\u001b[1;32m----> 1\u001b[0m accident_df \u001b[39m=\u001b[39m accident_df\u001b[39m.\u001b[39;49mdrop(columns \u001b[39m=\u001b[39;49m [\u001b[39m'\u001b[39;49m\u001b[39mstreet_default\u001b[39;49m\u001b[39m'\u001b[39;49m, \u001b[39m'\u001b[39;49m\u001b[39mis_motorcycle\u001b[39;49m\u001b[39m'\u001b[39;49m, \u001b[39m'\u001b[39;49m\u001b[39mis_truck\u001b[39;49m\u001b[39m'\u001b[39;49m,\u001b[39m'\u001b[39;49m\u001b[39mis_other\u001b[39;49m\u001b[39m'\u001b[39;49m, \u001b[39m'\u001b[39;49m\u001b[39mlinrefx\u001b[39;49m\u001b[39m'\u001b[39;49m, \u001b[39m'\u001b[39;49m\u001b[39mlinrefy\u001b[39;49m\u001b[39m'\u001b[39;49m, \u001b[39m'\u001b[39;49m\u001b[39mxgcswgs84\u001b[39;49m\u001b[39m'\u001b[39;49m,\u001b[39m'\u001b[39;49m\u001b[39mygcswgs84\u001b[39;49m\u001b[39m'\u001b[39;49m, \u001b[39m'\u001b[39;49m\u001b[39mac_type2\u001b[39;49m\u001b[39m'\u001b[39;49m, \u001b[39m'\u001b[39;49m\u001b[39mstreet_condition\u001b[39;49m\u001b[39m'\u001b[39;49m, \u001b[39m'\u001b[39;49m\u001b[39mac_light\u001b[39;49m\u001b[39m'\u001b[39;49m, \u001b[39m'\u001b[39;49m\u001b[39mobject_id\u001b[39;49m\u001b[39m'\u001b[39;49m])\n\u001b[0;32m      3\u001b[0m accident_df[\u001b[39m'\u001b[39m\u001b[39mac_category\u001b[39m\u001b[39m'\u001b[39m] \u001b[39m=\u001b[39m accident_df[\u001b[39m'\u001b[39m\u001b[39mac_category\u001b[39m\u001b[39m'\u001b[39m]\u001b[39m.\u001b[39mreplace({\u001b[39m1\u001b[39m:\u001b[39m'\u001b[39m\u001b[39mdeadly\u001b[39m\u001b[39m'\u001b[39m, \u001b[39m2\u001b[39m:\u001b[39m'\u001b[39m\u001b[39mseriously_injured\u001b[39m\u001b[39m'\u001b[39m, \u001b[39m3\u001b[39m:\u001b[39m'\u001b[39m\u001b[39mlight_injured\u001b[39m\u001b[39m'\u001b[39m })\n\u001b[0;32m      4\u001b[0m accident_df[\u001b[39m'\u001b[39m\u001b[39mac_type\u001b[39m\u001b[39m'\u001b[39m] \u001b[39m=\u001b[39m np\u001b[39m.\u001b[39mwhere(accident_df[\u001b[39m'\u001b[39m\u001b[39mac_type\u001b[39m\u001b[39m'\u001b[39m]\u001b[39m.\u001b[39misin([\u001b[39m1\u001b[39m, \u001b[39m4\u001b[39m, \u001b[39m5\u001b[39m, \u001b[39m6\u001b[39m, \u001b[39m7\u001b[39m, \u001b[39m8\u001b[39m, \u001b[39m9\u001b[39m, \u001b[39m0\u001b[39m]), \u001b[39m'\u001b[39m\u001b[39mother\u001b[39m\u001b[39m'\u001b[39m, \u001b[39m'\u001b[39m\u001b[39mturn_in\u001b[39m\u001b[39m'\u001b[39m)\n",
      "File \u001b[1;32m~\\anaconda3\\lib\\site-packages\\pandas\\util\\_decorators.py:331\u001b[0m, in \u001b[0;36mdeprecate_nonkeyword_arguments.<locals>.decorate.<locals>.wrapper\u001b[1;34m(*args, **kwargs)\u001b[0m\n\u001b[0;32m    325\u001b[0m \u001b[39mif\u001b[39;00m \u001b[39mlen\u001b[39m(args) \u001b[39m>\u001b[39m num_allow_args:\n\u001b[0;32m    326\u001b[0m     warnings\u001b[39m.\u001b[39mwarn(\n\u001b[0;32m    327\u001b[0m         msg\u001b[39m.\u001b[39mformat(arguments\u001b[39m=\u001b[39m_format_argument_list(allow_args)),\n\u001b[0;32m    328\u001b[0m         \u001b[39mFutureWarning\u001b[39;00m,\n\u001b[0;32m    329\u001b[0m         stacklevel\u001b[39m=\u001b[39mfind_stack_level(),\n\u001b[0;32m    330\u001b[0m     )\n\u001b[1;32m--> 331\u001b[0m \u001b[39mreturn\u001b[39;00m func(\u001b[39m*\u001b[39margs, \u001b[39m*\u001b[39m\u001b[39m*\u001b[39mkwargs)\n",
      "File \u001b[1;32m~\\anaconda3\\lib\\site-packages\\pandas\\core\\frame.py:5399\u001b[0m, in \u001b[0;36mDataFrame.drop\u001b[1;34m(self, labels, axis, index, columns, level, inplace, errors)\u001b[0m\n\u001b[0;32m   5251\u001b[0m \u001b[39m@deprecate_nonkeyword_arguments\u001b[39m(version\u001b[39m=\u001b[39m\u001b[39mNone\u001b[39;00m, allowed_args\u001b[39m=\u001b[39m[\u001b[39m\"\u001b[39m\u001b[39mself\u001b[39m\u001b[39m\"\u001b[39m, \u001b[39m\"\u001b[39m\u001b[39mlabels\u001b[39m\u001b[39m\"\u001b[39m])\n\u001b[0;32m   5252\u001b[0m \u001b[39mdef\u001b[39;00m \u001b[39mdrop\u001b[39m(  \u001b[39m# type: ignore[override]\u001b[39;00m\n\u001b[0;32m   5253\u001b[0m     \u001b[39mself\u001b[39m,\n\u001b[1;32m   (...)\u001b[0m\n\u001b[0;32m   5260\u001b[0m     errors: IgnoreRaise \u001b[39m=\u001b[39m \u001b[39m\"\u001b[39m\u001b[39mraise\u001b[39m\u001b[39m\"\u001b[39m,\n\u001b[0;32m   5261\u001b[0m ) \u001b[39m-\u001b[39m\u001b[39m>\u001b[39m DataFrame \u001b[39m|\u001b[39m \u001b[39mNone\u001b[39;00m:\n\u001b[0;32m   5262\u001b[0m \u001b[39m    \u001b[39m\u001b[39m\"\"\"\u001b[39;00m\n\u001b[0;32m   5263\u001b[0m \u001b[39m    Drop specified labels from rows or columns.\u001b[39;00m\n\u001b[0;32m   5264\u001b[0m \n\u001b[1;32m   (...)\u001b[0m\n\u001b[0;32m   5397\u001b[0m \u001b[39m            weight  1.0     0.8\u001b[39;00m\n\u001b[0;32m   5398\u001b[0m \u001b[39m    \"\"\"\u001b[39;00m\n\u001b[1;32m-> 5399\u001b[0m     \u001b[39mreturn\u001b[39;00m \u001b[39msuper\u001b[39;49m()\u001b[39m.\u001b[39;49mdrop(\n\u001b[0;32m   5400\u001b[0m         labels\u001b[39m=\u001b[39;49mlabels,\n\u001b[0;32m   5401\u001b[0m         axis\u001b[39m=\u001b[39;49maxis,\n\u001b[0;32m   5402\u001b[0m         index\u001b[39m=\u001b[39;49mindex,\n\u001b[0;32m   5403\u001b[0m         columns\u001b[39m=\u001b[39;49mcolumns,\n\u001b[0;32m   5404\u001b[0m         level\u001b[39m=\u001b[39;49mlevel,\n\u001b[0;32m   5405\u001b[0m         inplace\u001b[39m=\u001b[39;49minplace,\n\u001b[0;32m   5406\u001b[0m         errors\u001b[39m=\u001b[39;49merrors,\n\u001b[0;32m   5407\u001b[0m     )\n",
      "File \u001b[1;32m~\\anaconda3\\lib\\site-packages\\pandas\\util\\_decorators.py:331\u001b[0m, in \u001b[0;36mdeprecate_nonkeyword_arguments.<locals>.decorate.<locals>.wrapper\u001b[1;34m(*args, **kwargs)\u001b[0m\n\u001b[0;32m    325\u001b[0m \u001b[39mif\u001b[39;00m \u001b[39mlen\u001b[39m(args) \u001b[39m>\u001b[39m num_allow_args:\n\u001b[0;32m    326\u001b[0m     warnings\u001b[39m.\u001b[39mwarn(\n\u001b[0;32m    327\u001b[0m         msg\u001b[39m.\u001b[39mformat(arguments\u001b[39m=\u001b[39m_format_argument_list(allow_args)),\n\u001b[0;32m    328\u001b[0m         \u001b[39mFutureWarning\u001b[39;00m,\n\u001b[0;32m    329\u001b[0m         stacklevel\u001b[39m=\u001b[39mfind_stack_level(),\n\u001b[0;32m    330\u001b[0m     )\n\u001b[1;32m--> 331\u001b[0m \u001b[39mreturn\u001b[39;00m func(\u001b[39m*\u001b[39margs, \u001b[39m*\u001b[39m\u001b[39m*\u001b[39mkwargs)\n",
      "File \u001b[1;32m~\\anaconda3\\lib\\site-packages\\pandas\\core\\generic.py:4505\u001b[0m, in \u001b[0;36mNDFrame.drop\u001b[1;34m(self, labels, axis, index, columns, level, inplace, errors)\u001b[0m\n\u001b[0;32m   4503\u001b[0m \u001b[39mfor\u001b[39;00m axis, labels \u001b[39min\u001b[39;00m axes\u001b[39m.\u001b[39mitems():\n\u001b[0;32m   4504\u001b[0m     \u001b[39mif\u001b[39;00m labels \u001b[39mis\u001b[39;00m \u001b[39mnot\u001b[39;00m \u001b[39mNone\u001b[39;00m:\n\u001b[1;32m-> 4505\u001b[0m         obj \u001b[39m=\u001b[39m obj\u001b[39m.\u001b[39;49m_drop_axis(labels, axis, level\u001b[39m=\u001b[39;49mlevel, errors\u001b[39m=\u001b[39;49merrors)\n\u001b[0;32m   4507\u001b[0m \u001b[39mif\u001b[39;00m inplace:\n\u001b[0;32m   4508\u001b[0m     \u001b[39mself\u001b[39m\u001b[39m.\u001b[39m_update_inplace(obj)\n",
      "File \u001b[1;32m~\\anaconda3\\lib\\site-packages\\pandas\\core\\generic.py:4546\u001b[0m, in \u001b[0;36mNDFrame._drop_axis\u001b[1;34m(self, labels, axis, level, errors, only_slice)\u001b[0m\n\u001b[0;32m   4544\u001b[0m         new_axis \u001b[39m=\u001b[39m axis\u001b[39m.\u001b[39mdrop(labels, level\u001b[39m=\u001b[39mlevel, errors\u001b[39m=\u001b[39merrors)\n\u001b[0;32m   4545\u001b[0m     \u001b[39melse\u001b[39;00m:\n\u001b[1;32m-> 4546\u001b[0m         new_axis \u001b[39m=\u001b[39m axis\u001b[39m.\u001b[39;49mdrop(labels, errors\u001b[39m=\u001b[39;49merrors)\n\u001b[0;32m   4547\u001b[0m     indexer \u001b[39m=\u001b[39m axis\u001b[39m.\u001b[39mget_indexer(new_axis)\n\u001b[0;32m   4549\u001b[0m \u001b[39m# Case for non-unique axis\u001b[39;00m\n\u001b[0;32m   4550\u001b[0m \u001b[39melse\u001b[39;00m:\n",
      "File \u001b[1;32m~\\anaconda3\\lib\\site-packages\\pandas\\core\\indexes\\base.py:6934\u001b[0m, in \u001b[0;36mIndex.drop\u001b[1;34m(self, labels, errors)\u001b[0m\n\u001b[0;32m   6932\u001b[0m \u001b[39mif\u001b[39;00m mask\u001b[39m.\u001b[39many():\n\u001b[0;32m   6933\u001b[0m     \u001b[39mif\u001b[39;00m errors \u001b[39m!=\u001b[39m \u001b[39m\"\u001b[39m\u001b[39mignore\u001b[39m\u001b[39m\"\u001b[39m:\n\u001b[1;32m-> 6934\u001b[0m         \u001b[39mraise\u001b[39;00m \u001b[39mKeyError\u001b[39;00m(\u001b[39mf\u001b[39m\u001b[39m\"\u001b[39m\u001b[39m{\u001b[39;00m\u001b[39mlist\u001b[39m(labels[mask])\u001b[39m}\u001b[39;00m\u001b[39m not found in axis\u001b[39m\u001b[39m\"\u001b[39m)\n\u001b[0;32m   6935\u001b[0m     indexer \u001b[39m=\u001b[39m indexer[\u001b[39m~\u001b[39mmask]\n\u001b[0;32m   6936\u001b[0m \u001b[39mreturn\u001b[39;00m \u001b[39mself\u001b[39m\u001b[39m.\u001b[39mdelete(indexer)\n",
      "\u001b[1;31mKeyError\u001b[0m: \"['street_default', 'is_motorcycle', 'is_truck', 'is_other', 'linrefx', 'linrefy', 'xgcswgs84', 'ygcswgs84', 'ac_type2', 'street_condition', 'ac_light', 'object_id'] not found in axis\""
     ]
    }
   ],
   "source": []
  },
  {
   "cell_type": "markdown",
   "metadata": {},
   "source": [
    "### Adress dataset (optional)"
   ]
  },
  {
   "cell_type": "code",
   "execution_count": null,
   "metadata": {},
   "outputs": [],
   "source": [
    "mybib.get_adress_data_by_year(2023)"
   ]
  }
 ],
 "metadata": {
  "kernelspec": {
   "display_name": "Python 3 (ipykernel)",
   "language": "python",
   "name": "python3"
  },
  "language_info": {
   "codemirror_mode": {
    "name": "ipython",
    "version": 3
   },
   "file_extension": ".py",
   "mimetype": "text/x-python",
   "name": "python",
   "nbconvert_exporter": "python",
   "pygments_lexer": "ipython3",
   "version": "3.10.9"
  },
  "orig_nbformat": 4
 },
 "nbformat": 4,
 "nbformat_minor": 2
}
