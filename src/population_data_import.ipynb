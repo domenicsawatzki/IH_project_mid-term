{
 "cells": [
  {
   "cell_type": "code",
   "execution_count": 104,
   "metadata": {},
   "outputs": [
    {
     "name": "stdout",
     "output_type": "stream",
     "text": [
      "The autoreload extension is already loaded. To reload it, use:\n",
      "  %reload_ext autoreload\n"
     ]
    }
   ],
   "source": [
    "import pandas as pd\n",
    "import numpy as np\n",
    "\n",
    "\n",
    "from my_modules import my_functions as mybib\n",
    "from my_modules import project_functions as pr\n",
    "\n",
    "\n",
    "%load_ext autoreload\n",
    "%autoreload 2"
   ]
  },
  {
   "cell_type": "code",
   "execution_count": 105,
   "metadata": {},
   "outputs": [
    {
     "data": {
      "text/html": [
       "<div>\n",
       "<style scoped>\n",
       "    .dataframe tbody tr th:only-of-type {\n",
       "        vertical-align: middle;\n",
       "    }\n",
       "\n",
       "    .dataframe tbody tr th {\n",
       "        vertical-align: top;\n",
       "    }\n",
       "\n",
       "    .dataframe thead th {\n",
       "        text-align: right;\n",
       "    }\n",
       "</style>\n",
       "<table border=\"1\" class=\"dataframe\">\n",
       "  <thead>\n",
       "    <tr style=\"text-align: right;\">\n",
       "      <th></th>\n",
       "      <th>0</th>\n",
       "      <th>1</th>\n",
       "      <th>2</th>\n",
       "      <th>3</th>\n",
       "      <th>4</th>\n",
       "      <th>5</th>\n",
       "      <th>6</th>\n",
       "      <th>7</th>\n",
       "      <th>8</th>\n",
       "      <th>9</th>\n",
       "      <th>10</th>\n",
       "      <th>11</th>\n",
       "      <th>12</th>\n",
       "      <th>13</th>\n",
       "      <th>14</th>\n",
       "    </tr>\n",
       "  </thead>\n",
       "  <tbody>\n",
       "  </tbody>\n",
       "</table>\n",
       "</div>"
      ],
      "text/plain": [
       "Empty DataFrame\n",
       "Columns: [0, 1, 2, 3, 4, 5, 6, 7, 8, 9, 10, 11, 12, 13, 14]\n",
       "Index: []"
      ]
     },
     "metadata": {},
     "output_type": "display_data"
    }
   ],
   "source": [
    "column_names = [i for i in range(0, 15)]\n",
    "\n",
    "population_df = pd.DataFrame(columns=column_names)\n",
    "display(population_df)"
   ]
  },
  {
   "cell_type": "code",
   "execution_count": 108,
   "metadata": {},
   "outputs": [
    {
     "name": "stdout",
     "output_type": "stream",
     "text": [
      "SB_A01-16-00_2018h01_BE.xlsx\n",
      "File 2018-01 shape: (447, 17) \n",
      "\n",
      "SB_A01-16-00_2018h02_BE.xlsx\n",
      "File 2018-02 shape: (447, 17) \n",
      "\n",
      "SB_A01-16-00_2019h01_BE.xlsx\n",
      "File 2019-01 shape: (447, 17) \n",
      "\n",
      "SB_A01-16-00_2019h02_BE.xlsx\n",
      "File 2019-02 shape: (447, 17) \n",
      "\n",
      "SB_A01-16-00_2020h01_BE.xlsx\n",
      "File 2020-01 shape: (447, 17) \n",
      "\n",
      "SB_A01-16-00_2020h02_BE.xlsx\n",
      "File 2020-02 shape: (447, 17) \n",
      "\n",
      "SB_A01-16-00_2021h01_BE.xlsx\n",
      "File 2021-01 shape: (447, 17) \n",
      "\n",
      "SB_A01-16-00_2021h02_BE.xlsx\n",
      "File 2021-02 shape: (447, 17) \n",
      "\n",
      "SB_A01-16-00_2022h01_BE.xlsx\n",
      "File 2022-01 shape: (447, 17) \n",
      "\n",
      "SB_A01-16-00_2022h02_BE.xlsx\n",
      "File 2022-02 shape: (447, 17) \n",
      "\n",
      "(9387, 17)\n"
     ]
    }
   ],
   "source": [
    "# https://ecoagi.ai/de/topics/Python/python-get-all-files-in-directory\n",
    "\n",
    "import os \n",
    "import re\n",
    "\n",
    "list_xlsx_files = os.listdir('../data/input/population')\n",
    "list_xlsx_files\n",
    "\n",
    "\n",
    "for filename in list_xlsx_files: \n",
    "\n",
    "    \n",
    "    # extract year and half_year\n",
    "    temp = re.search(r'(\\d{4})h(\\d{2})', filename)\n",
    "    year, half_year = temp.groups()\n",
    "    # print(f'{year}, {half_year}')\n",
    "    \n",
    "    print(f'{filename}')\n",
    "    \n",
    "\n",
    "    # create file path for file import \n",
    "    file_path = f'../data/input/population/{filename}'\n",
    "\n",
    "    # import data \n",
    "    raw_data = pd.read_excel('../data/input/population/SB_A01-16-00_2018h01_BE.xlsx', 'T2', header = None)\n",
    "\n",
    "    \n",
    "    Nan_rows = raw_data.isnull().any(axis=1)\n",
    "    Non_nan_rows = ~Nan_rows\n",
    "    final_rows = Non_nan_rows[Non_nan_rows].index.tolist()\n",
    "    pop_data = raw_data.iloc[final_rows]\n",
    "        \n",
    "    pop_data.insert(0, 'year', year)\n",
    "    pop_data.insert(1, 'half_year', half_year)\n",
    "    print(f'File {year}-{half_year} shape: {pop_data.shape} \\n')\n",
    "    counter = counter + len(pop_data)\n",
    "        \n",
    "    population_df = pd.concat([population_df, pop_data], ignore_index=True , axis=0)\n",
    "    population_df.to_csv(f'../data/output/temp_population_data/population-{year}-{half_year}.csv', index = False)\n",
    "\n",
    "\n",
    "population_df.to_csv(f'../data/output/total_population_dataset_2018-2022.csv', index = False)\n",
    "print(population_df.shape)"
   ]
  }
 ],
 "metadata": {
  "kernelspec": {
   "display_name": "Python 3 (ipykernel)",
   "language": "python",
   "name": "python3"
  },
  "language_info": {
   "codemirror_mode": {
    "name": "ipython",
    "version": 3
   },
   "file_extension": ".py",
   "mimetype": "text/x-python",
   "name": "python",
   "nbconvert_exporter": "python",
   "pygments_lexer": "ipython3",
   "version": "3.10.9"
  },
  "orig_nbformat": 4
 },
 "nbformat": 4,
 "nbformat_minor": 2
}
