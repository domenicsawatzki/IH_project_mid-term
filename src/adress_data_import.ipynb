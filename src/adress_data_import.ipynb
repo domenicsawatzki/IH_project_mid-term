{
 "cells": [
  {
   "cell_type": "code",
   "execution_count": 28,
   "metadata": {},
   "outputs": [
    {
     "name": "stdout",
     "output_type": "stream",
     "text": [
      "The autoreload extension is already loaded. To reload it, use:\n",
      "  %reload_ext autoreload\n"
     ]
    }
   ],
   "source": [
    "# !pip install pypdf3\n",
    "# !pip install tabula-py\n",
    "# !pip install camelot-py\n",
    "\n",
    "import pandas as pd\n",
    "import numpy as np\n",
    "# import camelot as camel\n",
    "from PyPDF3 import PdfFileReader \n",
    "from tabula import read_pdf \n",
    "# from tabulate import tabulate\n",
    "\n",
    "from my_modules import my_functions as mybib\n",
    "from my_modules import project_functions as pr\n",
    "\n",
    "# progress bar \n",
    "from tqdm import tqdm\n",
    "\n",
    "%load_ext autoreload\n",
    "%autoreload 2\n",
    "\n",
    "\n",
    "# https://www.youtube.com/watch?v=702lkQbZx50 - for tabula\n",
    "# https://stackoverflow.com/questions/45457054/tabula-extract-tables-by-area-coordinates - for tabula \n",
    "\n",
    "#FIXME: ADDRESS"
   ]
  },
  {
   "cell_type": "code",
   "execution_count": 29,
   "metadata": {},
   "outputs": [],
   "source": [
    "import os \n",
    "import re\n"
   ]
  },
  {
   "cell_type": "code",
   "execution_count": 30,
   "metadata": {},
   "outputs": [],
   "source": []
  },
  {
   "cell_type": "code",
   "execution_count": 31,
   "metadata": {},
   "outputs": [],
   "source": [
    "#FIXME: close pdf file when error occurs\n",
    "# https://stackoverflow.com/questions/43259717/progress-bar-for-a-for-loop-in-python-script - progress bar\n",
    "# https://stackoverflow.com/questions/47021185/is-there-a-way-to-close-the-file-pdffilereader-opens - context manager \n",
    "# https://www.youtube.com/watch?v=OZo2HxoIOtw - open path as binary \n",
    "\n",
    "\n",
    "from tqdm import tqdm\n",
    "\n",
    "def extract_all_pages_from_pdf(path, file_name, counter, lenght):\n",
    "    with open(path, 'rb') as f:\n",
    "        # open path as binary / rb = read binary -> used for pdf files\n",
    "        counter += 1        \n",
    "        pdf = PdfFileReader(f)\n",
    "        last_page = pdf.getNumPages()\n",
    "        last_page += 1\n",
    "\n",
    "        # defining page range for import \n",
    "        [i for i in range(0, 15)]\n",
    "        page_range = [i for i in range(5, last_page)]\n",
    "        # print(page_range)\n",
    "\n",
    "        # prepare column name filler\n",
    "        column_names = [i for i in range(0, 14)]\n",
    "        # print(column_names)\n",
    "\n",
    "        # create empty dataframe\n",
    "        adress_data = pd.DataFrame(columns = column_names)\n",
    "        # display(adress_data)\n",
    "        \n",
    "        # extract district information \n",
    "        #TODO: nochmal prüfen und vielleicht optimieren\n",
    "        district = [re.findall(r'(?<=adr_)(.*?)(?=_\\d{4}\\.pdf)', file_name)]\n",
    "        print(f'file {counter}/{lenght} - {district[0][0]}')\n",
    "        for page in tqdm(page_range):\n",
    "            \n",
    "            import_data = read_pdf(path, pages = page, encoding = 'ISO-8859-1', stream = True, area = [175, 33, 783, 520], guess = True, pandas_options={'header': None})\n",
    "            table_df = import_data[0]\n",
    "\n",
    "            \n",
    "            table_df = import_data[0]\n",
    "            columns_len = len(table_df.columns)\n",
    "\n",
    "            if columns_len < 14:\n",
    "                if table_df.iloc[:, 3].dtype in ['int64', 'int32', 'float64', 'float32']:\n",
    "                    table_df.insert(3, 'm1', np.nan)\n",
    "\n",
    "                if table_df.iloc[:, 6].dtype in ['int64', 'int32', 'float64', 'float32']:\n",
    "                    table_df.insert(5, 'm2', np.nan)\n",
    "                \n",
    "                \n",
    "                column_length = len(table_df.columns)\n",
    "\n",
    "                \n",
    "                if column_length < 14:\n",
    "                    table_df['m3'] = np.nan\n",
    "                    # display(table_df)\n",
    "                \n",
    "                \n",
    "                table_df.columns = column_names\n",
    "                table_df['14'] = str(district[0][0])\n",
    "                \n",
    "                adress_data = pd.concat([adress_data, table_df], ignore_index=True , axis=0)\n",
    "\n",
    "        return adress_data, district[0][0], counter\n",
    "\n",
    "\n"
   ]
  },
  {
   "cell_type": "code",
   "execution_count": null,
   "metadata": {},
   "outputs": [],
   "source": []
  },
  {
   "cell_type": "code",
   "execution_count": 32,
   "metadata": {},
   "outputs": [],
   "source": [
    "\n",
    "\n",
    "\n",
    "def get_adress_data_by_year(year):\n",
    "    path = f'../data/input/berlin_adresses/{year}'\n",
    "    \n",
    "    list_of_files = os.listdir(path)\n",
    "    list_of_files\n",
    "    \n",
    "    length = len(list_of_files)\n",
    "    counter = 0 \n",
    "    \n",
    "    column_names = [i for i in range(0, 14)]\n",
    "    print(len(column_names))\n",
    "    final_df = pd.DataFrame(columns = column_names)\n",
    "    \n",
    "    print(f'Extracting data from files in {path}')\n",
    "    \n",
    "    for file_name in (list_of_files):\n",
    "        path = f'../data/input/berlin_adresses/{year}/{file_name}'\n",
    "        df, name, counter = extract_all_pages_from_pdf(path, file_name, counter, length)\n",
    "        \n",
    "        df.to_csv(f'../data/output/temp_adress_data/{name}-{year}.csv', index = False)\n",
    "        \n",
    "        final_df = pd.concat([final_df, df], ignore_index=True , axis=0)\n",
    "        \n",
    "        # display(dataset.head(5))\n",
    "        # print(dataset.shape)\n",
    "    return final_df\n",
    "\n",
    "\n"
   ]
  },
  {
   "cell_type": "code",
   "execution_count": null,
   "metadata": {},
   "outputs": [],
   "source": []
  },
  {
   "cell_type": "code",
   "execution_count": 33,
   "metadata": {},
   "outputs": [
    {
     "name": "stdout",
     "output_type": "stream",
     "text": [
      "14\n",
      "Extracting data from files in ../data/input/berlin_adresses/2023\n",
      "file 1/12 - charlottenburg-wilmersdorf\n"
     ]
    },
    {
     "name": "stderr",
     "output_type": "stream",
     "text": [
      " 18%|██████████████▉                                                                    | 9/50 [00:19<01:27,  2.14s/it]\n"
     ]
    },
    {
     "ename": "KeyboardInterrupt",
     "evalue": "",
     "output_type": "error",
     "traceback": [
      "\u001b[1;31m---------------------------------------------------------------------------\u001b[0m",
      "\u001b[1;31mKeyboardInterrupt\u001b[0m                         Traceback (most recent call last)",
      "File \u001b[1;32m<timed exec>:1\u001b[0m\n",
      "Cell \u001b[1;32mIn[32], line 18\u001b[0m, in \u001b[0;36mget_adress_data_by_year\u001b[1;34m(year)\u001b[0m\n\u001b[0;32m     16\u001b[0m \u001b[39mfor\u001b[39;00m file_name \u001b[39min\u001b[39;00m (list_of_files):\n\u001b[0;32m     17\u001b[0m     path \u001b[39m=\u001b[39m \u001b[39mf\u001b[39m\u001b[39m'\u001b[39m\u001b[39m../data/input/berlin_adresses/\u001b[39m\u001b[39m{\u001b[39;00myear\u001b[39m}\u001b[39;00m\u001b[39m/\u001b[39m\u001b[39m{\u001b[39;00mfile_name\u001b[39m}\u001b[39;00m\u001b[39m'\u001b[39m\n\u001b[1;32m---> 18\u001b[0m     df, name, counter \u001b[39m=\u001b[39m extract_all_pages_from_pdf(path, file_name, counter, length)\n\u001b[0;32m     20\u001b[0m     df\u001b[39m.\u001b[39mto_csv(\u001b[39mf\u001b[39m\u001b[39m'\u001b[39m\u001b[39m../data/output/temp_adress_data/\u001b[39m\u001b[39m{\u001b[39;00mname\u001b[39m}\u001b[39;00m\u001b[39m-\u001b[39m\u001b[39m{\u001b[39;00myear\u001b[39m}\u001b[39;00m\u001b[39m.csv\u001b[39m\u001b[39m'\u001b[39m, index \u001b[39m=\u001b[39m \u001b[39mFalse\u001b[39;00m)\n\u001b[0;32m     22\u001b[0m     final_df \u001b[39m=\u001b[39m pd\u001b[39m.\u001b[39mconcat([final_df, df], ignore_index\u001b[39m=\u001b[39m\u001b[39mTrue\u001b[39;00m , axis\u001b[39m=\u001b[39m\u001b[39m0\u001b[39m)\n",
      "Cell \u001b[1;32mIn[31], line 36\u001b[0m, in \u001b[0;36mextract_all_pages_from_pdf\u001b[1;34m(path, file_name, counter, lenght)\u001b[0m\n\u001b[0;32m     33\u001b[0m \u001b[39mprint\u001b[39m(\u001b[39mf\u001b[39m\u001b[39m'\u001b[39m\u001b[39mfile \u001b[39m\u001b[39m{\u001b[39;00mcounter\u001b[39m}\u001b[39;00m\u001b[39m/\u001b[39m\u001b[39m{\u001b[39;00mlenght\u001b[39m}\u001b[39;00m\u001b[39m - \u001b[39m\u001b[39m{\u001b[39;00mdistrict[\u001b[39m0\u001b[39m][\u001b[39m0\u001b[39m]\u001b[39m}\u001b[39;00m\u001b[39m'\u001b[39m)\n\u001b[0;32m     34\u001b[0m \u001b[39mfor\u001b[39;00m page \u001b[39min\u001b[39;00m tqdm(page_range):\n\u001b[1;32m---> 36\u001b[0m     import_data \u001b[39m=\u001b[39m read_pdf(path, pages \u001b[39m=\u001b[39;49m page, encoding \u001b[39m=\u001b[39;49m \u001b[39m'\u001b[39;49m\u001b[39mISO-8859-1\u001b[39;49m\u001b[39m'\u001b[39;49m, stream \u001b[39m=\u001b[39;49m \u001b[39mTrue\u001b[39;49;00m, area \u001b[39m=\u001b[39;49m [\u001b[39m175\u001b[39;49m, \u001b[39m33\u001b[39;49m, \u001b[39m783\u001b[39;49m, \u001b[39m520\u001b[39;49m], guess \u001b[39m=\u001b[39;49m \u001b[39mTrue\u001b[39;49;00m, pandas_options\u001b[39m=\u001b[39;49m{\u001b[39m'\u001b[39;49m\u001b[39mheader\u001b[39;49m\u001b[39m'\u001b[39;49m: \u001b[39mNone\u001b[39;49;00m})\n\u001b[0;32m     37\u001b[0m     table_df \u001b[39m=\u001b[39m import_data[\u001b[39m0\u001b[39m]\n\u001b[0;32m     40\u001b[0m     table_df \u001b[39m=\u001b[39m import_data[\u001b[39m0\u001b[39m]\n",
      "File \u001b[1;32m~\\anaconda3\\lib\\site-packages\\tabula\\io.py:425\u001b[0m, in \u001b[0;36mread_pdf\u001b[1;34m(input_path, output_format, encoding, java_options, pandas_options, multiple_tables, user_agent, use_raw_url, pages, guess, area, relative_area, lattice, stream, password, silent, columns, relative_columns, format, batch, output_path, options)\u001b[0m\n\u001b[0;32m    422\u001b[0m     \u001b[39mraise\u001b[39;00m \u001b[39mValueError\u001b[39;00m(\u001b[39mf\u001b[39m\u001b[39m\"\u001b[39m\u001b[39m{\u001b[39;00mpath\u001b[39m}\u001b[39;00m\u001b[39m is empty. Check the file, or download it manually.\u001b[39m\u001b[39m\"\u001b[39m)\n\u001b[0;32m    424\u001b[0m \u001b[39mtry\u001b[39;00m:\n\u001b[1;32m--> 425\u001b[0m     output \u001b[39m=\u001b[39m _run(java_options, tabula_options, path, encoding)\n\u001b[0;32m    426\u001b[0m \u001b[39mfinally\u001b[39;00m:\n\u001b[0;32m    427\u001b[0m     \u001b[39mif\u001b[39;00m temporary:\n",
      "File \u001b[1;32m~\\anaconda3\\lib\\site-packages\\tabula\\io.py:88\u001b[0m, in \u001b[0;36m_run\u001b[1;34m(java_options, options, path, encoding)\u001b[0m\n\u001b[0;32m     85\u001b[0m     args\u001b[39m.\u001b[39mappend(path)\n\u001b[0;32m     87\u001b[0m \u001b[39mtry\u001b[39;00m:\n\u001b[1;32m---> 88\u001b[0m     result \u001b[39m=\u001b[39m subprocess\u001b[39m.\u001b[39;49mrun(\n\u001b[0;32m     89\u001b[0m         args,\n\u001b[0;32m     90\u001b[0m         stdout\u001b[39m=\u001b[39;49msubprocess\u001b[39m.\u001b[39;49mPIPE,\n\u001b[0;32m     91\u001b[0m         stderr\u001b[39m=\u001b[39;49msubprocess\u001b[39m.\u001b[39;49mPIPE,\n\u001b[0;32m     92\u001b[0m         stdin\u001b[39m=\u001b[39;49msubprocess\u001b[39m.\u001b[39;49mDEVNULL,\n\u001b[0;32m     93\u001b[0m         check\u001b[39m=\u001b[39;49m\u001b[39mTrue\u001b[39;49;00m,\n\u001b[0;32m     94\u001b[0m     )\n\u001b[0;32m     95\u001b[0m     \u001b[39mif\u001b[39;00m result\u001b[39m.\u001b[39mstderr:\n\u001b[0;32m     96\u001b[0m         logger\u001b[39m.\u001b[39mwarning(\u001b[39mf\u001b[39m\u001b[39m\"\u001b[39m\u001b[39mGot stderr: \u001b[39m\u001b[39m{\u001b[39;00mresult\u001b[39m.\u001b[39mstderr\u001b[39m.\u001b[39mdecode(encoding)\u001b[39m}\u001b[39;00m\u001b[39m\"\u001b[39m)\n",
      "File \u001b[1;32m~\\anaconda3\\lib\\subprocess.py:505\u001b[0m, in \u001b[0;36mrun\u001b[1;34m(input, capture_output, timeout, check, *popenargs, **kwargs)\u001b[0m\n\u001b[0;32m    503\u001b[0m \u001b[39mwith\u001b[39;00m Popen(\u001b[39m*\u001b[39mpopenargs, \u001b[39m*\u001b[39m\u001b[39m*\u001b[39mkwargs) \u001b[39mas\u001b[39;00m process:\n\u001b[0;32m    504\u001b[0m     \u001b[39mtry\u001b[39;00m:\n\u001b[1;32m--> 505\u001b[0m         stdout, stderr \u001b[39m=\u001b[39m process\u001b[39m.\u001b[39;49mcommunicate(\u001b[39minput\u001b[39;49m, timeout\u001b[39m=\u001b[39;49mtimeout)\n\u001b[0;32m    506\u001b[0m     \u001b[39mexcept\u001b[39;00m TimeoutExpired \u001b[39mas\u001b[39;00m exc:\n\u001b[0;32m    507\u001b[0m         process\u001b[39m.\u001b[39mkill()\n",
      "File \u001b[1;32m~\\anaconda3\\lib\\subprocess.py:1154\u001b[0m, in \u001b[0;36mPopen.communicate\u001b[1;34m(self, input, timeout)\u001b[0m\n\u001b[0;32m   1151\u001b[0m     endtime \u001b[39m=\u001b[39m \u001b[39mNone\u001b[39;00m\n\u001b[0;32m   1153\u001b[0m \u001b[39mtry\u001b[39;00m:\n\u001b[1;32m-> 1154\u001b[0m     stdout, stderr \u001b[39m=\u001b[39m \u001b[39mself\u001b[39;49m\u001b[39m.\u001b[39;49m_communicate(\u001b[39minput\u001b[39;49m, endtime, timeout)\n\u001b[0;32m   1155\u001b[0m \u001b[39mexcept\u001b[39;00m \u001b[39mKeyboardInterrupt\u001b[39;00m:\n\u001b[0;32m   1156\u001b[0m     \u001b[39m# https://bugs.python.org/issue25942\u001b[39;00m\n\u001b[0;32m   1157\u001b[0m     \u001b[39m# See the detailed comment in .wait().\u001b[39;00m\n\u001b[0;32m   1158\u001b[0m     \u001b[39mif\u001b[39;00m timeout \u001b[39mis\u001b[39;00m \u001b[39mnot\u001b[39;00m \u001b[39mNone\u001b[39;00m:\n",
      "File \u001b[1;32m~\\anaconda3\\lib\\subprocess.py:1528\u001b[0m, in \u001b[0;36mPopen._communicate\u001b[1;34m(self, input, endtime, orig_timeout)\u001b[0m\n\u001b[0;32m   1524\u001b[0m \u001b[39m# Wait for the reader threads, or time out.  If we time out, the\u001b[39;00m\n\u001b[0;32m   1525\u001b[0m \u001b[39m# threads remain reading and the fds left open in case the user\u001b[39;00m\n\u001b[0;32m   1526\u001b[0m \u001b[39m# calls communicate again.\u001b[39;00m\n\u001b[0;32m   1527\u001b[0m \u001b[39mif\u001b[39;00m \u001b[39mself\u001b[39m\u001b[39m.\u001b[39mstdout \u001b[39mis\u001b[39;00m \u001b[39mnot\u001b[39;00m \u001b[39mNone\u001b[39;00m:\n\u001b[1;32m-> 1528\u001b[0m     \u001b[39mself\u001b[39;49m\u001b[39m.\u001b[39;49mstdout_thread\u001b[39m.\u001b[39;49mjoin(\u001b[39mself\u001b[39;49m\u001b[39m.\u001b[39;49m_remaining_time(endtime))\n\u001b[0;32m   1529\u001b[0m     \u001b[39mif\u001b[39;00m \u001b[39mself\u001b[39m\u001b[39m.\u001b[39mstdout_thread\u001b[39m.\u001b[39mis_alive():\n\u001b[0;32m   1530\u001b[0m         \u001b[39mraise\u001b[39;00m TimeoutExpired(\u001b[39mself\u001b[39m\u001b[39m.\u001b[39margs, orig_timeout)\n",
      "File \u001b[1;32m~\\anaconda3\\lib\\threading.py:1096\u001b[0m, in \u001b[0;36mThread.join\u001b[1;34m(self, timeout)\u001b[0m\n\u001b[0;32m   1093\u001b[0m     \u001b[39mraise\u001b[39;00m \u001b[39mRuntimeError\u001b[39;00m(\u001b[39m\"\u001b[39m\u001b[39mcannot join current thread\u001b[39m\u001b[39m\"\u001b[39m)\n\u001b[0;32m   1095\u001b[0m \u001b[39mif\u001b[39;00m timeout \u001b[39mis\u001b[39;00m \u001b[39mNone\u001b[39;00m:\n\u001b[1;32m-> 1096\u001b[0m     \u001b[39mself\u001b[39;49m\u001b[39m.\u001b[39;49m_wait_for_tstate_lock()\n\u001b[0;32m   1097\u001b[0m \u001b[39melse\u001b[39;00m:\n\u001b[0;32m   1098\u001b[0m     \u001b[39m# the behavior of a negative timeout isn't documented, but\u001b[39;00m\n\u001b[0;32m   1099\u001b[0m     \u001b[39m# historically .join(timeout=x) for x<0 has acted as if timeout=0\u001b[39;00m\n\u001b[0;32m   1100\u001b[0m     \u001b[39mself\u001b[39m\u001b[39m.\u001b[39m_wait_for_tstate_lock(timeout\u001b[39m=\u001b[39m\u001b[39mmax\u001b[39m(timeout, \u001b[39m0\u001b[39m))\n",
      "File \u001b[1;32m~\\anaconda3\\lib\\threading.py:1116\u001b[0m, in \u001b[0;36mThread._wait_for_tstate_lock\u001b[1;34m(self, block, timeout)\u001b[0m\n\u001b[0;32m   1113\u001b[0m     \u001b[39mreturn\u001b[39;00m\n\u001b[0;32m   1115\u001b[0m \u001b[39mtry\u001b[39;00m:\n\u001b[1;32m-> 1116\u001b[0m     \u001b[39mif\u001b[39;00m lock\u001b[39m.\u001b[39;49macquire(block, timeout):\n\u001b[0;32m   1117\u001b[0m         lock\u001b[39m.\u001b[39mrelease()\n\u001b[0;32m   1118\u001b[0m         \u001b[39mself\u001b[39m\u001b[39m.\u001b[39m_stop()\n",
      "\u001b[1;31mKeyboardInterrupt\u001b[0m: "
     ]
    }
   ],
   "source": [
    "%%time \n",
    "total_df = get_adress_data_by_year(2023)"
   ]
  },
  {
   "cell_type": "code",
   "execution_count": null,
   "metadata": {},
   "outputs": [],
   "source": [
    "total_df.to_pickle(\"../data/output/temp_adress_data/address_data.pkl\")\n",
    "total_df.to_csv(\"../data/output/temp_adress_data/address_data.csv\", index=False)\n"
   ]
  },
  {
   "cell_type": "code",
   "execution_count": null,
   "metadata": {},
   "outputs": [],
   "source": [
    "total_df.columns"
   ]
  },
  {
   "cell_type": "code",
   "execution_count": null,
   "metadata": {},
   "outputs": [],
   "source": []
  },
  {
   "cell_type": "code",
   "execution_count": null,
   "metadata": {},
   "outputs": [],
   "source": []
  }
 ],
 "metadata": {
  "kernelspec": {
   "display_name": "Python 3 (ipykernel)",
   "language": "python",
   "name": "python3"
  },
  "orig_nbformat": 4
 },
 "nbformat": 4,
 "nbformat_minor": 2
}
